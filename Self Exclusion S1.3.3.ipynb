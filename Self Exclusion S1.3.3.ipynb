{
 "cells": [
  {
   "cell_type": "markdown",
   "id": "fiscal-order",
   "metadata": {},
   "source": [
    "Previously we built a model to predict 8 risk rating vs. not 8. \n",
    "\n",
    "The purpose of this notebook is to use classifiers to classify the risk rating of 9 vs. not 9\n",
    "\n",
    "In a similar manner we can build models for each risk rating 1-17."
   ]
  },
  {
   "cell_type": "code",
   "execution_count": 1,
   "id": "acoustic-reliance",
   "metadata": {},
   "outputs": [],
   "source": [
    "import pandas as pd\n",
    "import matplotlib.pyplot as plt\n",
    "import seaborn as sns\n",
    "import numpy as np\n",
    "import pickle"
   ]
  },
  {
   "cell_type": "code",
   "execution_count": 2,
   "id": "becoming-chess",
   "metadata": {},
   "outputs": [],
   "source": [
    "from sklearn.model_selection import train_test_split, GroupShuffleSplit\n",
    "from sklearn.ensemble import RandomForestClassifier\n",
    "from sklearn.metrics import accuracy_score, confusion_matrix"
   ]
  },
  {
   "cell_type": "code",
   "execution_count": 3,
   "id": "generous-layer",
   "metadata": {},
   "outputs": [],
   "source": [
    "df = pd.read_csv('df_client.csv')"
   ]
  },
  {
   "cell_type": "code",
   "execution_count": 4,
   "id": "mechanical-incident",
   "metadata": {},
   "outputs": [
    {
     "data": {
      "text/html": [
       "<div>\n",
       "<style scoped>\n",
       "    .dataframe tbody tr th:only-of-type {\n",
       "        vertical-align: middle;\n",
       "    }\n",
       "\n",
       "    .dataframe tbody tr th {\n",
       "        vertical-align: top;\n",
       "    }\n",
       "\n",
       "    .dataframe thead th {\n",
       "        text-align: right;\n",
       "    }\n",
       "</style>\n",
       "<table border=\"1\" class=\"dataframe\">\n",
       "  <thead>\n",
       "    <tr style=\"text-align: right;\">\n",
       "      <th></th>\n",
       "      <th>Country_Code</th>\n",
       "      <th>BR Code</th>\n",
       "      <th>Period</th>\n",
       "      <th>Client</th>\n",
       "      <th>risk_rating</th>\n",
       "      <th>Self_exclude_flag</th>\n",
       "      <th>Variable_1_Y0</th>\n",
       "      <th>Variable_1_Y1</th>\n",
       "      <th>Variable_1_Y2</th>\n",
       "      <th>Variable_1_Y3</th>\n",
       "      <th>...</th>\n",
       "      <th>Variable_28_Y1</th>\n",
       "      <th>Variable_28_Y2</th>\n",
       "      <th>Variable_28_Y3</th>\n",
       "      <th>Variable_29_Y0</th>\n",
       "      <th>Variable_29_Y1</th>\n",
       "      <th>Variable_29_Y2</th>\n",
       "      <th>Variable_30_Y0</th>\n",
       "      <th>Variable_30_Y1</th>\n",
       "      <th>Variable_30_Y2</th>\n",
       "      <th>Variable_30_Y3</th>\n",
       "    </tr>\n",
       "  </thead>\n",
       "  <tbody>\n",
       "    <tr>\n",
       "      <th>0</th>\n",
       "      <td>0</td>\n",
       "      <td>0</td>\n",
       "      <td>2017Q2</td>\n",
       "      <td>0</td>\n",
       "      <td>7</td>\n",
       "      <td>1</td>\n",
       "      <td>581103.4591</td>\n",
       "      <td>612122.5165</td>\n",
       "      <td>589483.6484</td>\n",
       "      <td>608043.5063</td>\n",
       "      <td>...</td>\n",
       "      <td>572312.4225</td>\n",
       "      <td>601762.9316</td>\n",
       "      <td>574251.4130</td>\n",
       "      <td>577170.3096</td>\n",
       "      <td>594024.8975</td>\n",
       "      <td>616177.8226</td>\n",
       "      <td>588163.8327</td>\n",
       "      <td>623659.1015</td>\n",
       "      <td>608794.9055</td>\n",
       "      <td>574860.551</td>\n",
       "    </tr>\n",
       "    <tr>\n",
       "      <th>1</th>\n",
       "      <td>0</td>\n",
       "      <td>0</td>\n",
       "      <td>2016Q1</td>\n",
       "      <td>0</td>\n",
       "      <td>7</td>\n",
       "      <td>1</td>\n",
       "      <td>608189.3682</td>\n",
       "      <td>581513.6158</td>\n",
       "      <td>609292.1500</td>\n",
       "      <td>NaN</td>\n",
       "      <td>...</td>\n",
       "      <td>608263.6088</td>\n",
       "      <td>605605.1646</td>\n",
       "      <td>NaN</td>\n",
       "      <td>581951.0166</td>\n",
       "      <td>608354.2362</td>\n",
       "      <td>623470.1198</td>\n",
       "      <td>591055.8212</td>\n",
       "      <td>592011.4052</td>\n",
       "      <td>572734.0028</td>\n",
       "      <td>NaN</td>\n",
       "    </tr>\n",
       "    <tr>\n",
       "      <th>2</th>\n",
       "      <td>0</td>\n",
       "      <td>0</td>\n",
       "      <td>2015Q4</td>\n",
       "      <td>0</td>\n",
       "      <td>7</td>\n",
       "      <td>1</td>\n",
       "      <td>626775.4450</td>\n",
       "      <td>620338.8464</td>\n",
       "      <td>NaN</td>\n",
       "      <td>NaN</td>\n",
       "      <td>...</td>\n",
       "      <td>621396.2940</td>\n",
       "      <td>NaN</td>\n",
       "      <td>NaN</td>\n",
       "      <td>590490.3620</td>\n",
       "      <td>620329.2616</td>\n",
       "      <td>NaN</td>\n",
       "      <td>626221.0887</td>\n",
       "      <td>572241.0321</td>\n",
       "      <td>NaN</td>\n",
       "      <td>NaN</td>\n",
       "    </tr>\n",
       "    <tr>\n",
       "      <th>3</th>\n",
       "      <td>0</td>\n",
       "      <td>0</td>\n",
       "      <td>2015Q2</td>\n",
       "      <td>0</td>\n",
       "      <td>7</td>\n",
       "      <td>1</td>\n",
       "      <td>613152.4469</td>\n",
       "      <td>595630.8819</td>\n",
       "      <td>NaN</td>\n",
       "      <td>NaN</td>\n",
       "      <td>...</td>\n",
       "      <td>589714.2432</td>\n",
       "      <td>NaN</td>\n",
       "      <td>NaN</td>\n",
       "      <td>580633.8747</td>\n",
       "      <td>576235.2813</td>\n",
       "      <td>NaN</td>\n",
       "      <td>619098.6619</td>\n",
       "      <td>578761.7137</td>\n",
       "      <td>NaN</td>\n",
       "      <td>NaN</td>\n",
       "    </tr>\n",
       "    <tr>\n",
       "      <th>4</th>\n",
       "      <td>0</td>\n",
       "      <td>1</td>\n",
       "      <td>2019Q1</td>\n",
       "      <td>1</td>\n",
       "      <td>9</td>\n",
       "      <td>0</td>\n",
       "      <td>615840.2415</td>\n",
       "      <td>603501.2067</td>\n",
       "      <td>587601.9393</td>\n",
       "      <td>610071.5454</td>\n",
       "      <td>...</td>\n",
       "      <td>607400.3547</td>\n",
       "      <td>570273.9177</td>\n",
       "      <td>573434.8221</td>\n",
       "      <td>572413.5987</td>\n",
       "      <td>618435.4264</td>\n",
       "      <td>587802.7283</td>\n",
       "      <td>NaN</td>\n",
       "      <td>NaN</td>\n",
       "      <td>NaN</td>\n",
       "      <td>NaN</td>\n",
       "    </tr>\n",
       "  </tbody>\n",
       "</table>\n",
       "<p>5 rows × 124 columns</p>\n",
       "</div>"
      ],
      "text/plain": [
       "   Country_Code  BR Code  Period  Client  risk_rating  Self_exclude_flag  \\\n",
       "0             0        0  2017Q2       0            7                  1   \n",
       "1             0        0  2016Q1       0            7                  1   \n",
       "2             0        0  2015Q4       0            7                  1   \n",
       "3             0        0  2015Q2       0            7                  1   \n",
       "4             0        1  2019Q1       1            9                  0   \n",
       "\n",
       "   Variable_1_Y0  Variable_1_Y1  Variable_1_Y2  Variable_1_Y3  ...  \\\n",
       "0    581103.4591    612122.5165    589483.6484    608043.5063  ...   \n",
       "1    608189.3682    581513.6158    609292.1500            NaN  ...   \n",
       "2    626775.4450    620338.8464            NaN            NaN  ...   \n",
       "3    613152.4469    595630.8819            NaN            NaN  ...   \n",
       "4    615840.2415    603501.2067    587601.9393    610071.5454  ...   \n",
       "\n",
       "   Variable_28_Y1  Variable_28_Y2  Variable_28_Y3  Variable_29_Y0  \\\n",
       "0     572312.4225     601762.9316     574251.4130     577170.3096   \n",
       "1     608263.6088     605605.1646             NaN     581951.0166   \n",
       "2     621396.2940             NaN             NaN     590490.3620   \n",
       "3     589714.2432             NaN             NaN     580633.8747   \n",
       "4     607400.3547     570273.9177     573434.8221     572413.5987   \n",
       "\n",
       "   Variable_29_Y1  Variable_29_Y2  Variable_30_Y0  Variable_30_Y1  \\\n",
       "0     594024.8975     616177.8226     588163.8327     623659.1015   \n",
       "1     608354.2362     623470.1198     591055.8212     592011.4052   \n",
       "2     620329.2616             NaN     626221.0887     572241.0321   \n",
       "3     576235.2813             NaN     619098.6619     578761.7137   \n",
       "4     618435.4264     587802.7283             NaN             NaN   \n",
       "\n",
       "   Variable_30_Y2  Variable_30_Y3  \n",
       "0     608794.9055      574860.551  \n",
       "1     572734.0028             NaN  \n",
       "2             NaN             NaN  \n",
       "3             NaN             NaN  \n",
       "4             NaN             NaN  \n",
       "\n",
       "[5 rows x 124 columns]"
      ]
     },
     "execution_count": 4,
     "metadata": {},
     "output_type": "execute_result"
    }
   ],
   "source": [
    "df.head()"
   ]
  },
  {
   "cell_type": "code",
   "execution_count": 5,
   "id": "intelligent-range",
   "metadata": {},
   "outputs": [],
   "source": [
    "f1 = df['risk_rating'] == 9\n",
    "\n",
    "df.loc[:,'rr_9'] = 0\n",
    "df.loc[f1,'rr_9'] = 1"
   ]
  },
  {
   "cell_type": "code",
   "execution_count": 6,
   "id": "joint-burning",
   "metadata": {},
   "outputs": [],
   "source": [
    "#cols = ['Variable_16_Y0','Variable_17_Y0', 'Variable_22_Y0','Variable_3_Y0', \n",
    "cols = ['Variable_16_Y0','Variable_3_Y0', 'rr_9']"
   ]
  },
  {
   "cell_type": "code",
   "execution_count": 7,
   "id": "lesser-warehouse",
   "metadata": {},
   "outputs": [],
   "source": [
    "df1 = df.loc[:,cols].dropna().reset_index(drop=True)"
   ]
  },
  {
   "cell_type": "code",
   "execution_count": 8,
   "id": "monthly-setup",
   "metadata": {},
   "outputs": [
    {
     "data": {
      "text/html": [
       "<div>\n",
       "<style scoped>\n",
       "    .dataframe tbody tr th:only-of-type {\n",
       "        vertical-align: middle;\n",
       "    }\n",
       "\n",
       "    .dataframe tbody tr th {\n",
       "        vertical-align: top;\n",
       "    }\n",
       "\n",
       "    .dataframe thead th {\n",
       "        text-align: right;\n",
       "    }\n",
       "</style>\n",
       "<table border=\"1\" class=\"dataframe\">\n",
       "  <thead>\n",
       "    <tr style=\"text-align: right;\">\n",
       "      <th></th>\n",
       "      <th>Variable_16_Y0</th>\n",
       "      <th>Variable_3_Y0</th>\n",
       "      <th>rr_9</th>\n",
       "    </tr>\n",
       "  </thead>\n",
       "  <tbody>\n",
       "    <tr>\n",
       "      <th>0</th>\n",
       "      <td>626840.4657</td>\n",
       "      <td>592374.2988</td>\n",
       "      <td>0</td>\n",
       "    </tr>\n",
       "    <tr>\n",
       "      <th>1</th>\n",
       "      <td>606359.1289</td>\n",
       "      <td>595587.6726</td>\n",
       "      <td>0</td>\n",
       "    </tr>\n",
       "    <tr>\n",
       "      <th>2</th>\n",
       "      <td>627671.8775</td>\n",
       "      <td>576546.0494</td>\n",
       "      <td>0</td>\n",
       "    </tr>\n",
       "    <tr>\n",
       "      <th>3</th>\n",
       "      <td>580507.2233</td>\n",
       "      <td>575206.3258</td>\n",
       "      <td>0</td>\n",
       "    </tr>\n",
       "    <tr>\n",
       "      <th>4</th>\n",
       "      <td>622216.4303</td>\n",
       "      <td>598898.0024</td>\n",
       "      <td>0</td>\n",
       "    </tr>\n",
       "  </tbody>\n",
       "</table>\n",
       "</div>"
      ],
      "text/plain": [
       "   Variable_16_Y0  Variable_3_Y0  rr_9\n",
       "0     626840.4657    592374.2988     0\n",
       "1     606359.1289    595587.6726     0\n",
       "2     627671.8775    576546.0494     0\n",
       "3     580507.2233    575206.3258     0\n",
       "4     622216.4303    598898.0024     0"
      ]
     },
     "execution_count": 8,
     "metadata": {},
     "output_type": "execute_result"
    }
   ],
   "source": [
    "df1.head()"
   ]
  },
  {
   "cell_type": "code",
   "execution_count": 10,
   "id": "occupational-attachment",
   "metadata": {},
   "outputs": [
    {
     "data": {
      "text/plain": [
       "0    21575\n",
       "1     1660\n",
       "Name: rr_9, dtype: int64"
      ]
     },
     "execution_count": 10,
     "metadata": {},
     "output_type": "execute_result"
    }
   ],
   "source": [
    "pd.value_counts(df1['rr_9'])"
   ]
  },
  {
   "cell_type": "code",
   "execution_count": 11,
   "id": "compound-illustration",
   "metadata": {},
   "outputs": [
    {
     "name": "stdout",
     "output_type": "stream",
     "text": [
      "(23235, 2) (23235,)\n"
     ]
    }
   ],
   "source": [
    "# split into inputs and outputs\n",
    "X, y = df1.loc[:,cols[:-1]], df1.loc[:,cols[-1]]\n",
    "print(X.shape, y.shape)"
   ]
  },
  {
   "cell_type": "code",
   "execution_count": 12,
   "id": "spiritual-husband",
   "metadata": {},
   "outputs": [
    {
     "name": "stdout",
     "output_type": "stream",
     "text": [
      "(15567, 2) (7668, 2) (15567,) (7668,)\n"
     ]
    }
   ],
   "source": [
    "X_train, X_test, y_train, y_test = train_test_split(X, y, test_size=0.33, random_state=1)\n",
    "print(X_train.shape, X_test.shape, y_train.shape, y_test.shape)"
   ]
  },
  {
   "cell_type": "code",
   "execution_count": 13,
   "id": "automatic-yellow",
   "metadata": {},
   "outputs": [
    {
     "data": {
      "text/plain": [
       "RandomForestClassifier(random_state=1)"
      ]
     },
     "execution_count": 13,
     "metadata": {},
     "output_type": "execute_result"
    }
   ],
   "source": [
    "# fit the model\n",
    "model = RandomForestClassifier(random_state=1)\n",
    "model.fit(X_train, y_train)"
   ]
  },
  {
   "cell_type": "code",
   "execution_count": 14,
   "id": "needed-richardson",
   "metadata": {},
   "outputs": [],
   "source": [
    "# make predictions\n",
    "yhat = model.predict(X_test)"
   ]
  },
  {
   "cell_type": "code",
   "execution_count": 15,
   "id": "dynamic-outreach",
   "metadata": {},
   "outputs": [
    {
     "name": "stdout",
     "output_type": "stream",
     "text": [
      "Accuracy: 0.927\n"
     ]
    }
   ],
   "source": [
    "# evaluate predictions\n",
    "acc = accuracy_score(y_test, yhat)\n",
    "print('Accuracy: %.3f' % acc)"
   ]
  },
  {
   "cell_type": "code",
   "execution_count": 16,
   "id": "fossil-immunology",
   "metadata": {},
   "outputs": [
    {
     "name": "stdout",
     "output_type": "stream",
     "text": [
      "Confusion Matrix : \n",
      " [[7104   20]\n",
      " [ 542    2]]\n"
     ]
    }
   ],
   "source": [
    "cm = confusion_matrix(y_test, yhat) \n",
    "print (\"Confusion Matrix : \\n\", cm) "
   ]
  },
  {
   "cell_type": "markdown",
   "id": "threaded-publisher",
   "metadata": {},
   "source": [
    "Model was able to predict 0s 7104/7124 times.\n",
    "\n",
    "Model was able to predict only 2/544 1s. "
   ]
  },
  {
   "cell_type": "code",
   "execution_count": 17,
   "id": "rental-liver",
   "metadata": {},
   "outputs": [
    {
     "name": "stdout",
     "output_type": "stream",
     "text": [
      "y_test : \n",
      " [[   0 7124]\n",
      " [   1  544]]\n"
     ]
    }
   ],
   "source": [
    "unique, counts = np.unique(y_test, return_counts=True)\n",
    "\n",
    "print(\"y_test : \\n\", np.asarray((unique, counts)).T)"
   ]
  },
  {
   "cell_type": "code",
   "execution_count": 18,
   "id": "stuffed-bearing",
   "metadata": {},
   "outputs": [
    {
     "name": "stdout",
     "output_type": "stream",
     "text": [
      "yhat : \n",
      " [[   0 7646]\n",
      " [   1   22]]\n"
     ]
    }
   ],
   "source": [
    "unique, counts = np.unique(yhat, return_counts=True)\n",
    "\n",
    "print(\"yhat : \\n\", np.asarray((unique, counts)).T)"
   ]
  },
  {
   "cell_type": "code",
   "execution_count": 19,
   "id": "cardiac-saturn",
   "metadata": {},
   "outputs": [],
   "source": [
    "filename = 'rr_9_model.sav'\n",
    "pickle.dump(model, open(filename, 'wb'))"
   ]
  },
  {
   "cell_type": "code",
   "execution_count": null,
   "id": "respective-henry",
   "metadata": {},
   "outputs": [],
   "source": []
  }
 ],
 "metadata": {
  "kernelspec": {
   "display_name": "Python 3",
   "language": "python",
   "name": "python3"
  },
  "language_info": {
   "codemirror_mode": {
    "name": "ipython",
    "version": 3
   },
   "file_extension": ".py",
   "mimetype": "text/x-python",
   "name": "python",
   "nbconvert_exporter": "python",
   "pygments_lexer": "ipython3",
   "version": "3.6.5"
  }
 },
 "nbformat": 4,
 "nbformat_minor": 5
}
