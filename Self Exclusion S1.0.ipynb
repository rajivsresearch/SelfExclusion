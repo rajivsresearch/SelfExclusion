{
 "cells": [
  {
   "cell_type": "markdown",
   "id": "fallen-template",
   "metadata": {},
   "source": [
    "The purpose of this notebook is exploratory data analysis of the dataset df_client.csv"
   ]
  },
  {
   "cell_type": "code",
   "execution_count": null,
   "id": "detected-description",
   "metadata": {},
   "outputs": [],
   "source": [
    "import pandas as pd\n",
    "import matplotlib.pyplot as plt\n",
    "import seaborn as sns\n",
    "import numpy as np"
   ]
  },
  {
   "cell_type": "code",
   "execution_count": 2,
   "id": "generous-layer",
   "metadata": {},
   "outputs": [],
   "source": [
    "df = pd.read_csv('df_client.csv')"
   ]
  },
  {
   "cell_type": "code",
   "execution_count": 3,
   "id": "mechanical-incident",
   "metadata": {},
   "outputs": [
    {
     "data": {
      "text/html": [
       "<div>\n",
       "<style scoped>\n",
       "    .dataframe tbody tr th:only-of-type {\n",
       "        vertical-align: middle;\n",
       "    }\n",
       "\n",
       "    .dataframe tbody tr th {\n",
       "        vertical-align: top;\n",
       "    }\n",
       "\n",
       "    .dataframe thead th {\n",
       "        text-align: right;\n",
       "    }\n",
       "</style>\n",
       "<table border=\"1\" class=\"dataframe\">\n",
       "  <thead>\n",
       "    <tr style=\"text-align: right;\">\n",
       "      <th></th>\n",
       "      <th>Country_Code</th>\n",
       "      <th>BR Code</th>\n",
       "      <th>Period</th>\n",
       "      <th>Client</th>\n",
       "      <th>risk_rating</th>\n",
       "      <th>Self_exclude_flag</th>\n",
       "      <th>Variable_1_Y0</th>\n",
       "      <th>Variable_1_Y1</th>\n",
       "      <th>Variable_1_Y2</th>\n",
       "      <th>Variable_1_Y3</th>\n",
       "      <th>...</th>\n",
       "      <th>Variable_28_Y1</th>\n",
       "      <th>Variable_28_Y2</th>\n",
       "      <th>Variable_28_Y3</th>\n",
       "      <th>Variable_29_Y0</th>\n",
       "      <th>Variable_29_Y1</th>\n",
       "      <th>Variable_29_Y2</th>\n",
       "      <th>Variable_30_Y0</th>\n",
       "      <th>Variable_30_Y1</th>\n",
       "      <th>Variable_30_Y2</th>\n",
       "      <th>Variable_30_Y3</th>\n",
       "    </tr>\n",
       "  </thead>\n",
       "  <tbody>\n",
       "    <tr>\n",
       "      <th>0</th>\n",
       "      <td>0</td>\n",
       "      <td>0</td>\n",
       "      <td>2017Q2</td>\n",
       "      <td>0</td>\n",
       "      <td>7</td>\n",
       "      <td>1</td>\n",
       "      <td>581103.4591</td>\n",
       "      <td>612122.5165</td>\n",
       "      <td>589483.6484</td>\n",
       "      <td>608043.5063</td>\n",
       "      <td>...</td>\n",
       "      <td>572312.4225</td>\n",
       "      <td>601762.9316</td>\n",
       "      <td>574251.4130</td>\n",
       "      <td>577170.3096</td>\n",
       "      <td>594024.8975</td>\n",
       "      <td>616177.8226</td>\n",
       "      <td>588163.8327</td>\n",
       "      <td>623659.1015</td>\n",
       "      <td>608794.9055</td>\n",
       "      <td>574860.551</td>\n",
       "    </tr>\n",
       "    <tr>\n",
       "      <th>1</th>\n",
       "      <td>0</td>\n",
       "      <td>0</td>\n",
       "      <td>2016Q1</td>\n",
       "      <td>0</td>\n",
       "      <td>7</td>\n",
       "      <td>1</td>\n",
       "      <td>608189.3682</td>\n",
       "      <td>581513.6158</td>\n",
       "      <td>609292.1500</td>\n",
       "      <td>NaN</td>\n",
       "      <td>...</td>\n",
       "      <td>608263.6088</td>\n",
       "      <td>605605.1646</td>\n",
       "      <td>NaN</td>\n",
       "      <td>581951.0166</td>\n",
       "      <td>608354.2362</td>\n",
       "      <td>623470.1198</td>\n",
       "      <td>591055.8212</td>\n",
       "      <td>592011.4052</td>\n",
       "      <td>572734.0028</td>\n",
       "      <td>NaN</td>\n",
       "    </tr>\n",
       "    <tr>\n",
       "      <th>2</th>\n",
       "      <td>0</td>\n",
       "      <td>0</td>\n",
       "      <td>2015Q4</td>\n",
       "      <td>0</td>\n",
       "      <td>7</td>\n",
       "      <td>1</td>\n",
       "      <td>626775.4450</td>\n",
       "      <td>620338.8464</td>\n",
       "      <td>NaN</td>\n",
       "      <td>NaN</td>\n",
       "      <td>...</td>\n",
       "      <td>621396.2940</td>\n",
       "      <td>NaN</td>\n",
       "      <td>NaN</td>\n",
       "      <td>590490.3620</td>\n",
       "      <td>620329.2616</td>\n",
       "      <td>NaN</td>\n",
       "      <td>626221.0887</td>\n",
       "      <td>572241.0321</td>\n",
       "      <td>NaN</td>\n",
       "      <td>NaN</td>\n",
       "    </tr>\n",
       "    <tr>\n",
       "      <th>3</th>\n",
       "      <td>0</td>\n",
       "      <td>0</td>\n",
       "      <td>2015Q2</td>\n",
       "      <td>0</td>\n",
       "      <td>7</td>\n",
       "      <td>1</td>\n",
       "      <td>613152.4469</td>\n",
       "      <td>595630.8819</td>\n",
       "      <td>NaN</td>\n",
       "      <td>NaN</td>\n",
       "      <td>...</td>\n",
       "      <td>589714.2432</td>\n",
       "      <td>NaN</td>\n",
       "      <td>NaN</td>\n",
       "      <td>580633.8747</td>\n",
       "      <td>576235.2813</td>\n",
       "      <td>NaN</td>\n",
       "      <td>619098.6619</td>\n",
       "      <td>578761.7137</td>\n",
       "      <td>NaN</td>\n",
       "      <td>NaN</td>\n",
       "    </tr>\n",
       "    <tr>\n",
       "      <th>4</th>\n",
       "      <td>0</td>\n",
       "      <td>1</td>\n",
       "      <td>2019Q1</td>\n",
       "      <td>1</td>\n",
       "      <td>9</td>\n",
       "      <td>0</td>\n",
       "      <td>615840.2415</td>\n",
       "      <td>603501.2067</td>\n",
       "      <td>587601.9393</td>\n",
       "      <td>610071.5454</td>\n",
       "      <td>...</td>\n",
       "      <td>607400.3547</td>\n",
       "      <td>570273.9177</td>\n",
       "      <td>573434.8221</td>\n",
       "      <td>572413.5987</td>\n",
       "      <td>618435.4264</td>\n",
       "      <td>587802.7283</td>\n",
       "      <td>NaN</td>\n",
       "      <td>NaN</td>\n",
       "      <td>NaN</td>\n",
       "      <td>NaN</td>\n",
       "    </tr>\n",
       "  </tbody>\n",
       "</table>\n",
       "<p>5 rows × 124 columns</p>\n",
       "</div>"
      ],
      "text/plain": [
       "   Country_Code  BR Code  Period  Client  risk_rating  Self_exclude_flag  \\\n",
       "0             0        0  2017Q2       0            7                  1   \n",
       "1             0        0  2016Q1       0            7                  1   \n",
       "2             0        0  2015Q4       0            7                  1   \n",
       "3             0        0  2015Q2       0            7                  1   \n",
       "4             0        1  2019Q1       1            9                  0   \n",
       "\n",
       "   Variable_1_Y0  Variable_1_Y1  Variable_1_Y2  Variable_1_Y3  ...  \\\n",
       "0    581103.4591    612122.5165    589483.6484    608043.5063  ...   \n",
       "1    608189.3682    581513.6158    609292.1500            NaN  ...   \n",
       "2    626775.4450    620338.8464            NaN            NaN  ...   \n",
       "3    613152.4469    595630.8819            NaN            NaN  ...   \n",
       "4    615840.2415    603501.2067    587601.9393    610071.5454  ...   \n",
       "\n",
       "   Variable_28_Y1  Variable_28_Y2  Variable_28_Y3  Variable_29_Y0  \\\n",
       "0     572312.4225     601762.9316     574251.4130     577170.3096   \n",
       "1     608263.6088     605605.1646             NaN     581951.0166   \n",
       "2     621396.2940             NaN             NaN     590490.3620   \n",
       "3     589714.2432             NaN             NaN     580633.8747   \n",
       "4     607400.3547     570273.9177     573434.8221     572413.5987   \n",
       "\n",
       "   Variable_29_Y1  Variable_29_Y2  Variable_30_Y0  Variable_30_Y1  \\\n",
       "0     594024.8975     616177.8226     588163.8327     623659.1015   \n",
       "1     608354.2362     623470.1198     591055.8212     592011.4052   \n",
       "2     620329.2616             NaN     626221.0887     572241.0321   \n",
       "3     576235.2813             NaN     619098.6619     578761.7137   \n",
       "4     618435.4264     587802.7283             NaN             NaN   \n",
       "\n",
       "   Variable_30_Y2  Variable_30_Y3  \n",
       "0     608794.9055      574860.551  \n",
       "1     572734.0028             NaN  \n",
       "2             NaN             NaN  \n",
       "3             NaN             NaN  \n",
       "4             NaN             NaN  \n",
       "\n",
       "[5 rows x 124 columns]"
      ]
     },
     "execution_count": 3,
     "metadata": {},
     "output_type": "execute_result"
    }
   ],
   "source": [
    "df.head()"
   ]
  },
  {
   "cell_type": "code",
   "execution_count": 4,
   "id": "partial-luxembourg",
   "metadata": {},
   "outputs": [],
   "source": [
    "allcols = df.columns.values"
   ]
  },
  {
   "cell_type": "code",
   "execution_count": 5,
   "id": "significant-swimming",
   "metadata": {},
   "outputs": [
    {
     "data": {
      "text/plain": [
       "124"
      ]
     },
     "execution_count": 5,
     "metadata": {},
     "output_type": "execute_result"
    }
   ],
   "source": [
    "len(df.columns.values)"
   ]
  },
  {
   "cell_type": "markdown",
   "id": "moderate-cooler",
   "metadata": {},
   "source": [
    "The df_client dataset has 124 Columns"
   ]
  },
  {
   "cell_type": "code",
   "execution_count": 6,
   "id": "sufficient-inquiry",
   "metadata": {},
   "outputs": [
    {
     "name": "stdout",
     "output_type": "stream",
     "text": [
      "<class 'pandas.core.frame.DataFrame'>\n",
      "RangeIndex: 28224 entries, 0 to 28223\n",
      "Columns: 124 entries, Country_Code to Variable_30_Y3\n",
      "dtypes: float64(118), int64(5), object(1)\n",
      "memory usage: 26.7+ MB\n"
     ]
    }
   ],
   "source": [
    "df.info()"
   ]
  },
  {
   "cell_type": "markdown",
   "id": "laughing-creek",
   "metadata": {},
   "source": [
    "The df_client daatset has 28K rows"
   ]
  },
  {
   "cell_type": "code",
   "execution_count": 7,
   "id": "instructional-january",
   "metadata": {},
   "outputs": [
    {
     "data": {
      "text/plain": [
       "Country_Code         0\n",
       "BR Code              0\n",
       "Period               0\n",
       "Client               0\n",
       "risk_rating          0\n",
       "Self_exclude_flag    0\n",
       "dtype: int64"
      ]
     },
     "execution_count": 7,
     "metadata": {},
     "output_type": "execute_result"
    }
   ],
   "source": [
    "df.loc[:,['Country_Code', 'BR Code', 'Period', 'Client', 'risk_rating',\n",
    "           'Self_exclude_flag']].isna().sum()"
   ]
  },
  {
   "cell_type": "markdown",
   "id": "hazardous-monkey",
   "metadata": {},
   "source": [
    "First five columns have proper names and no null values"
   ]
  },
  {
   "cell_type": "code",
   "execution_count": 8,
   "id": "charged-jumping",
   "metadata": {},
   "outputs": [
    {
     "data": {
      "text/plain": [
       "0    18997\n",
       "1     9206\n",
       "2       21\n",
       "Name: Country_Code, dtype: int64"
      ]
     },
     "execution_count": 8,
     "metadata": {},
     "output_type": "execute_result"
    }
   ],
   "source": [
    "df.loc[:,'Country_Code'].value_counts()"
   ]
  },
  {
   "cell_type": "markdown",
   "id": "differential-science",
   "metadata": {},
   "source": [
    "Country code could be Canada, US and Other. Most entries are Canada. "
   ]
  },
  {
   "cell_type": "code",
   "execution_count": 19,
   "id": "weekly-offer",
   "metadata": {},
   "outputs": [
    {
     "data": {
      "text/plain": [
       "<AxesSubplot:xlabel='Country_Code,risk_rating'>"
      ]
     },
     "execution_count": 19,
     "metadata": {},
     "output_type": "execute_result"
    },
    {
     "data": {
      "image/png": "[encoded data removed]",
      "text/plain": [
       "<Figure size 1152x360 with 1 Axes>"
      ]
     },
     "metadata": {
      "needs_background": "light"
     },
     "output_type": "display_data"
    }
   ],
   "source": [
    "df['num'] = 1\n",
    "df.loc[:,['Country_Code', 'risk_rating', 'num']].groupby(by=['Country_Code', \n",
    "    'risk_rating']).sum().plot(kind='bar', figsize=(16,5))"
   ]
  },
  {
   "cell_type": "markdown",
   "id": "engaged-silence",
   "metadata": {},
   "source": [
    "The target to be predicted is the Risk Rating variable. Risk Ratings seem to range from 1-17. \n",
    "Chart shows the distribution of Risk Ratings by Country Code. \n",
    "Looks like both country values 0 and 1 have similar distribution, therefore may not have much predictive value"
   ]
  },
  {
   "cell_type": "code",
   "execution_count": 10,
   "id": "motivated-wonder",
   "metadata": {},
   "outputs": [
    {
     "data": {
      "text/plain": [
       "array([  0,   1,   2,   3,   4,   5,   6,   7,   8,   9,  10,  11,  12,\n",
       "        13,  14,  15,  16,  17,  18,  19,  20,  21,  23,  25,  26,  27,\n",
       "        28,  30,  31,  32,  33,  34,  35,  36,  37,  38,  39,  40,  41,\n",
       "        42,  43,  24,  44,  45,  46,  47,  48,  49,  50,  51,  52,  53,\n",
       "        54,  55,  56,  57,  58,  59,  60,  61,  62,  63,  64,  65,  66,\n",
       "        67,  29,  69,  70,  71,  72,  73,  74,  68,  22,  75,  76,  77,\n",
       "        78,  79,  80,  81,  82,  83,  84,  85,  86,  87,  88,  89,  90,\n",
       "        91,  92,  93,  94,  96,  97,  98,  99, 100, 101, 102, 104, 106,\n",
       "       107,  95], dtype=int64)"
      ]
     },
     "execution_count": 10,
     "metadata": {},
     "output_type": "execute_result"
    }
   ],
   "source": [
    "df.loc[:,'BR Code'].unique()"
   ]
  },
  {
   "cell_type": "code",
   "execution_count": 11,
   "id": "decent-elements",
   "metadata": {},
   "outputs": [
    {
     "data": {
      "text/plain": [
       "106"
      ]
     },
     "execution_count": 11,
     "metadata": {},
     "output_type": "execute_result"
    }
   ],
   "source": [
    "len(df.loc[:,'BR Code'].unique())"
   ]
  },
  {
   "cell_type": "markdown",
   "id": "joint-mixture",
   "metadata": {},
   "source": [
    "BR Code has 106 unique values"
   ]
  },
  {
   "cell_type": "code",
   "execution_count": 17,
   "id": "continuing-grass",
   "metadata": {},
   "outputs": [
    {
     "data": {
      "image/png": "[encoded data removed]",
      "text/plain": [
       "<Figure size 1152x360 with 1 Axes>"
      ]
     },
     "metadata": {
      "needs_background": "light"
     },
     "output_type": "display_data"
    }
   ],
   "source": [
    "brc = df.loc[:,'BR Code'].value_counts().sort_index().plot(kind='bar', figsize=(16,5))"
   ]
  },
  {
   "cell_type": "markdown",
   "id": "wrapped-intersection",
   "metadata": {},
   "source": [
    "Chart shows the distribution of BR Code. \n",
    "Most BR Code values are 5"
   ]
  },
  {
   "cell_type": "code",
   "execution_count": 21,
   "id": "dated-traffic",
   "metadata": {},
   "outputs": [
    {
     "data": {
      "text/plain": [
       "<AxesSubplot:xlabel='BR Code', ylabel='risk_rating'>"
      ]
     },
     "execution_count": 21,
     "metadata": {},
     "output_type": "execute_result"
    },
    {
     "data": {
      "image/png": "[encoded data removed]",
      "text/plain": [
       "<Figure size 1152x360 with 1 Axes>"
      ]
     },
     "metadata": {
      "needs_background": "light"
     },
     "output_type": "display_data"
    }
   ],
   "source": [
    "df.plot(kind='scatter', x = 'BR Code', y = 'risk_rating', figsize=(16,5))"
   ]
  },
  {
   "cell_type": "markdown",
   "id": "pending-reviewer",
   "metadata": {},
   "source": [
    "Chart shows the relationship between BR Code and Risk Rating. \n",
    "BR Code does not seem to have a linear relationship with risk rating"
   ]
  },
  {
   "cell_type": "code",
   "execution_count": 23,
   "id": "juvenile-marshall",
   "metadata": {},
   "outputs": [
    {
     "data": {
      "text/plain": [
       "<AxesSubplot:xlabel='Self_exclude_flag,risk_rating'>"
      ]
     },
     "execution_count": 23,
     "metadata": {},
     "output_type": "execute_result"
    },
    {
     "data": {
      "image/png": "[encoded data removed]",
      "text/plain": [
       "<Figure size 1152x360 with 1 Axes>"
      ]
     },
     "metadata": {
      "needs_background": "light"
     },
     "output_type": "display_data"
    }
   ],
   "source": [
    "df.loc[:,['risk_rating','Self_exclude_flag','Client']].groupby(by=['Self_exclude_flag', \n",
    "    'risk_rating']).count().plot(kind='bar', figsize=(16,5))"
   ]
  },
  {
   "cell_type": "markdown",
   "id": "placed-superior",
   "metadata": {},
   "source": [
    "Chart shows the distribution of Risk Rating and Self Exclusion flag\n",
    "If Risk Rating is above 8, then Self Exclusion Flag = 0 indicating that the players are self excluded and if Risk Rating is 8 or below then Self Exclusion Flag = 1 indicating that the players are not self excluded\n",
    "Most entries are not self-excluded in the dataset"
   ]
  },
  {
   "cell_type": "markdown",
   "id": "orange-ranch",
   "metadata": {},
   "source": [
    "Look at correlation of variable with each other using excel"
   ]
  },
  {
   "cell_type": "code",
   "execution_count": 26,
   "id": "orange-penetration",
   "metadata": {},
   "outputs": [],
   "source": [
    "df1 = df.drop(columns=['Country_Code', 'BR Code', 'Period', \n",
    "           'Self_exclude_flag']) .groupby(by='Client').mean().dropna()"
   ]
  },
  {
   "cell_type": "code",
   "execution_count": 27,
   "id": "lined-advancement",
   "metadata": {},
   "outputs": [],
   "source": [
    "df1.corr().to_excel('corr.xlsx')"
   ]
  },
  {
   "attachments": {},
   "cell_type": "markdown",
   "id": "stone-fiction",
   "metadata": {},
   "source": [
    "Looking at correlations between variables shows that risk rating is not correlated to any variable\n",
    "\n",
    "Correlations between Risk Rating and variables appear to be very low indicating there is not much predictive power in the variables"
   ]
  },
  {
   "cell_type": "code",
   "execution_count": null,
   "id": "tired-split",
   "metadata": {},
   "outputs": [],
   "source": []
  }
 ],
 "metadata": {
  "kernelspec": {
   "display_name": "Python 3",
   "language": "python",
   "name": "python3"
  },
  "language_info": {
   "codemirror_mode": {
    "name": "ipython",
    "version": 3
   },
   "file_extension": ".py",
   "mimetype": "text/x-python",
   "name": "python",
   "nbconvert_exporter": "python",
   "pygments_lexer": "ipython3",
   "version": "3.6.5"
  }
 },
 "nbformat": 4,
 "nbformat_minor": 5
}
