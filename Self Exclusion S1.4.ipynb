{
 "cells": [
  {
   "cell_type": "markdown",
   "id": "fiscal-order",
   "metadata": {},
   "source": [
    "Previously we created 2 models to predict 8 vs. not 8 and 9 vs. not 9 ratings. \n",
    "\n",
    "We could build similar models for all the 16 risk ratings. \n",
    "\n",
    "We will now bring this together to show how we can use these models to predict the risk rating.\n",
    "\n",
    "The purpose of this notebook is to use previously created models to predict risk rating"
   ]
  },
  {
   "cell_type": "code",
   "execution_count": 2,
   "id": "acoustic-reliance",
   "metadata": {},
   "outputs": [],
   "source": [
    "import pandas as pd\n",
    "import matplotlib.pyplot as plt\n",
    "import seaborn as sns\n",
    "import numpy as np\n",
    "import pickle"
   ]
  },
  {
   "cell_type": "code",
   "execution_count": 3,
   "id": "becoming-chess",
   "metadata": {},
   "outputs": [],
   "source": [
    "from sklearn.model_selection import train_test_split, GroupShuffleSplit\n",
    "from sklearn.ensemble import RandomForestClassifier\n",
    "from sklearn.metrics import accuracy_score, confusion_matrix"
   ]
  },
  {
   "cell_type": "code",
   "execution_count": 4,
   "id": "generous-layer",
   "metadata": {},
   "outputs": [],
   "source": [
    "df = pd.read_csv('df_client.csv')"
   ]
  },
  {
   "cell_type": "code",
   "execution_count": 5,
   "id": "mechanical-incident",
   "metadata": {},
   "outputs": [
    {
     "data": {
      "text/html": [
       "<div>\n",
       "<style scoped>\n",
       "    .dataframe tbody tr th:only-of-type {\n",
       "        vertical-align: middle;\n",
       "    }\n",
       "\n",
       "    .dataframe tbody tr th {\n",
       "        vertical-align: top;\n",
       "    }\n",
       "\n",
       "    .dataframe thead th {\n",
       "        text-align: right;\n",
       "    }\n",
       "</style>\n",
       "<table border=\"1\" class=\"dataframe\">\n",
       "  <thead>\n",
       "    <tr style=\"text-align: right;\">\n",
       "      <th></th>\n",
       "      <th>Country_Code</th>\n",
       "      <th>BR Code</th>\n",
       "      <th>Period</th>\n",
       "      <th>Client</th>\n",
       "      <th>risk_rating</th>\n",
       "      <th>Self_exclude_flag</th>\n",
       "      <th>Variable_1_Y0</th>\n",
       "      <th>Variable_1_Y1</th>\n",
       "      <th>Variable_1_Y2</th>\n",
       "      <th>Variable_1_Y3</th>\n",
       "      <th>...</th>\n",
       "      <th>Variable_28_Y1</th>\n",
       "      <th>Variable_28_Y2</th>\n",
       "      <th>Variable_28_Y3</th>\n",
       "      <th>Variable_29_Y0</th>\n",
       "      <th>Variable_29_Y1</th>\n",
       "      <th>Variable_29_Y2</th>\n",
       "      <th>Variable_30_Y0</th>\n",
       "      <th>Variable_30_Y1</th>\n",
       "      <th>Variable_30_Y2</th>\n",
       "      <th>Variable_30_Y3</th>\n",
       "    </tr>\n",
       "  </thead>\n",
       "  <tbody>\n",
       "    <tr>\n",
       "      <th>0</th>\n",
       "      <td>0</td>\n",
       "      <td>0</td>\n",
       "      <td>2017Q2</td>\n",
       "      <td>0</td>\n",
       "      <td>7</td>\n",
       "      <td>1</td>\n",
       "      <td>581103.4591</td>\n",
       "      <td>612122.5165</td>\n",
       "      <td>589483.6484</td>\n",
       "      <td>608043.5063</td>\n",
       "      <td>...</td>\n",
       "      <td>572312.4225</td>\n",
       "      <td>601762.9316</td>\n",
       "      <td>574251.4130</td>\n",
       "      <td>577170.3096</td>\n",
       "      <td>594024.8975</td>\n",
       "      <td>616177.8226</td>\n",
       "      <td>588163.8327</td>\n",
       "      <td>623659.1015</td>\n",
       "      <td>608794.9055</td>\n",
       "      <td>574860.551</td>\n",
       "    </tr>\n",
       "    <tr>\n",
       "      <th>1</th>\n",
       "      <td>0</td>\n",
       "      <td>0</td>\n",
       "      <td>2016Q1</td>\n",
       "      <td>0</td>\n",
       "      <td>7</td>\n",
       "      <td>1</td>\n",
       "      <td>608189.3682</td>\n",
       "      <td>581513.6158</td>\n",
       "      <td>609292.1500</td>\n",
       "      <td>NaN</td>\n",
       "      <td>...</td>\n",
       "      <td>608263.6088</td>\n",
       "      <td>605605.1646</td>\n",
       "      <td>NaN</td>\n",
       "      <td>581951.0166</td>\n",
       "      <td>608354.2362</td>\n",
       "      <td>623470.1198</td>\n",
       "      <td>591055.8212</td>\n",
       "      <td>592011.4052</td>\n",
       "      <td>572734.0028</td>\n",
       "      <td>NaN</td>\n",
       "    </tr>\n",
       "    <tr>\n",
       "      <th>2</th>\n",
       "      <td>0</td>\n",
       "      <td>0</td>\n",
       "      <td>2015Q4</td>\n",
       "      <td>0</td>\n",
       "      <td>7</td>\n",
       "      <td>1</td>\n",
       "      <td>626775.4450</td>\n",
       "      <td>620338.8464</td>\n",
       "      <td>NaN</td>\n",
       "      <td>NaN</td>\n",
       "      <td>...</td>\n",
       "      <td>621396.2940</td>\n",
       "      <td>NaN</td>\n",
       "      <td>NaN</td>\n",
       "      <td>590490.3620</td>\n",
       "      <td>620329.2616</td>\n",
       "      <td>NaN</td>\n",
       "      <td>626221.0887</td>\n",
       "      <td>572241.0321</td>\n",
       "      <td>NaN</td>\n",
       "      <td>NaN</td>\n",
       "    </tr>\n",
       "    <tr>\n",
       "      <th>3</th>\n",
       "      <td>0</td>\n",
       "      <td>0</td>\n",
       "      <td>2015Q2</td>\n",
       "      <td>0</td>\n",
       "      <td>7</td>\n",
       "      <td>1</td>\n",
       "      <td>613152.4469</td>\n",
       "      <td>595630.8819</td>\n",
       "      <td>NaN</td>\n",
       "      <td>NaN</td>\n",
       "      <td>...</td>\n",
       "      <td>589714.2432</td>\n",
       "      <td>NaN</td>\n",
       "      <td>NaN</td>\n",
       "      <td>580633.8747</td>\n",
       "      <td>576235.2813</td>\n",
       "      <td>NaN</td>\n",
       "      <td>619098.6619</td>\n",
       "      <td>578761.7137</td>\n",
       "      <td>NaN</td>\n",
       "      <td>NaN</td>\n",
       "    </tr>\n",
       "    <tr>\n",
       "      <th>4</th>\n",
       "      <td>0</td>\n",
       "      <td>1</td>\n",
       "      <td>2019Q1</td>\n",
       "      <td>1</td>\n",
       "      <td>9</td>\n",
       "      <td>0</td>\n",
       "      <td>615840.2415</td>\n",
       "      <td>603501.2067</td>\n",
       "      <td>587601.9393</td>\n",
       "      <td>610071.5454</td>\n",
       "      <td>...</td>\n",
       "      <td>607400.3547</td>\n",
       "      <td>570273.9177</td>\n",
       "      <td>573434.8221</td>\n",
       "      <td>572413.5987</td>\n",
       "      <td>618435.4264</td>\n",
       "      <td>587802.7283</td>\n",
       "      <td>NaN</td>\n",
       "      <td>NaN</td>\n",
       "      <td>NaN</td>\n",
       "      <td>NaN</td>\n",
       "    </tr>\n",
       "  </tbody>\n",
       "</table>\n",
       "<p>5 rows × 124 columns</p>\n",
       "</div>"
      ],
      "text/plain": [
       "   Country_Code  BR Code  Period  Client  risk_rating  Self_exclude_flag  \\\n",
       "0             0        0  2017Q2       0            7                  1   \n",
       "1             0        0  2016Q1       0            7                  1   \n",
       "2             0        0  2015Q4       0            7                  1   \n",
       "3             0        0  2015Q2       0            7                  1   \n",
       "4             0        1  2019Q1       1            9                  0   \n",
       "\n",
       "   Variable_1_Y0  Variable_1_Y1  Variable_1_Y2  Variable_1_Y3  ...  \\\n",
       "0    581103.4591    612122.5165    589483.6484    608043.5063  ...   \n",
       "1    608189.3682    581513.6158    609292.1500            NaN  ...   \n",
       "2    626775.4450    620338.8464            NaN            NaN  ...   \n",
       "3    613152.4469    595630.8819            NaN            NaN  ...   \n",
       "4    615840.2415    603501.2067    587601.9393    610071.5454  ...   \n",
       "\n",
       "   Variable_28_Y1  Variable_28_Y2  Variable_28_Y3  Variable_29_Y0  \\\n",
       "0     572312.4225     601762.9316     574251.4130     577170.3096   \n",
       "1     608263.6088     605605.1646             NaN     581951.0166   \n",
       "2     621396.2940             NaN             NaN     590490.3620   \n",
       "3     589714.2432             NaN             NaN     580633.8747   \n",
       "4     607400.3547     570273.9177     573434.8221     572413.5987   \n",
       "\n",
       "   Variable_29_Y1  Variable_29_Y2  Variable_30_Y0  Variable_30_Y1  \\\n",
       "0     594024.8975     616177.8226     588163.8327     623659.1015   \n",
       "1     608354.2362     623470.1198     591055.8212     592011.4052   \n",
       "2     620329.2616             NaN     626221.0887     572241.0321   \n",
       "3     576235.2813             NaN     619098.6619     578761.7137   \n",
       "4     618435.4264     587802.7283             NaN             NaN   \n",
       "\n",
       "   Variable_30_Y2  Variable_30_Y3  \n",
       "0     608794.9055      574860.551  \n",
       "1     572734.0028             NaN  \n",
       "2             NaN             NaN  \n",
       "3             NaN             NaN  \n",
       "4             NaN             NaN  \n",
       "\n",
       "[5 rows x 124 columns]"
      ]
     },
     "execution_count": 5,
     "metadata": {},
     "output_type": "execute_result"
    }
   ],
   "source": [
    "df.head()"
   ]
  },
  {
   "cell_type": "code",
   "execution_count": 6,
   "id": "intelligent-range",
   "metadata": {},
   "outputs": [],
   "source": [
    "f1 = df['risk_rating'] == 8\n",
    "\n",
    "df.loc[:,'rr_8'] = 0\n",
    "df.loc[f1,'rr_8'] = 1"
   ]
  },
  {
   "cell_type": "code",
   "execution_count": 7,
   "id": "silent-archive",
   "metadata": {},
   "outputs": [],
   "source": [
    "f2 = df['risk_rating'] == 9\n",
    "\n",
    "df.loc[:,'rr_9'] = 0\n",
    "df.loc[f2,'rr_9'] = 1"
   ]
  },
  {
   "cell_type": "code",
   "execution_count": 16,
   "id": "joint-burning",
   "metadata": {},
   "outputs": [],
   "source": [
    "cols = ['Variable_16_Y0','Variable_3_Y0', 'rr_8', 'rr_9']\n",
    "cols8 = ['Variable_16_Y0','Variable_3_Y0', 'rr_8']\n",
    "cols9 = ['Variable_16_Y0','Variable_3_Y0', 'rr_9']"
   ]
  },
  {
   "cell_type": "code",
   "execution_count": 17,
   "id": "phantom-space",
   "metadata": {},
   "outputs": [],
   "source": [
    "f3 = df['risk_rating'].isin([8,9])\n",
    "\n",
    "df_test = df.loc[f3,cols].dropna().reset_index(drop=True).sample(1)"
   ]
  },
  {
   "cell_type": "markdown",
   "id": "discrete-scholarship",
   "metadata": {},
   "source": [
    "Testing will be done on a sample"
   ]
  },
  {
   "cell_type": "code",
   "execution_count": 18,
   "id": "lesser-warehouse",
   "metadata": {},
   "outputs": [],
   "source": [
    "df8 = df_test.loc[:,cols8]\n",
    "df9 = df_test.loc[:,cols9]"
   ]
  },
  {
   "cell_type": "code",
   "execution_count": 19,
   "id": "monthly-setup",
   "metadata": {},
   "outputs": [
    {
     "data": {
      "text/html": [
       "<div>\n",
       "<style scoped>\n",
       "    .dataframe tbody tr th:only-of-type {\n",
       "        vertical-align: middle;\n",
       "    }\n",
       "\n",
       "    .dataframe tbody tr th {\n",
       "        vertical-align: top;\n",
       "    }\n",
       "\n",
       "    .dataframe thead th {\n",
       "        text-align: right;\n",
       "    }\n",
       "</style>\n",
       "<table border=\"1\" class=\"dataframe\">\n",
       "  <thead>\n",
       "    <tr style=\"text-align: right;\">\n",
       "      <th></th>\n",
       "      <th>Variable_16_Y0</th>\n",
       "      <th>Variable_3_Y0</th>\n",
       "      <th>rr_8</th>\n",
       "    </tr>\n",
       "  </thead>\n",
       "  <tbody>\n",
       "    <tr>\n",
       "      <th>2679</th>\n",
       "      <td>969494815.8</td>\n",
       "      <td>624569.9086</td>\n",
       "      <td>1</td>\n",
       "    </tr>\n",
       "  </tbody>\n",
       "</table>\n",
       "</div>"
      ],
      "text/plain": [
       "      Variable_16_Y0  Variable_3_Y0  rr_8\n",
       "2679     969494815.8    624569.9086     1"
      ]
     },
     "execution_count": 19,
     "metadata": {},
     "output_type": "execute_result"
    }
   ],
   "source": [
    "df8.head()"
   ]
  },
  {
   "cell_type": "code",
   "execution_count": 20,
   "id": "radio-dependence",
   "metadata": {},
   "outputs": [
    {
     "data": {
      "text/html": [
       "<div>\n",
       "<style scoped>\n",
       "    .dataframe tbody tr th:only-of-type {\n",
       "        vertical-align: middle;\n",
       "    }\n",
       "\n",
       "    .dataframe tbody tr th {\n",
       "        vertical-align: top;\n",
       "    }\n",
       "\n",
       "    .dataframe thead th {\n",
       "        text-align: right;\n",
       "    }\n",
       "</style>\n",
       "<table border=\"1\" class=\"dataframe\">\n",
       "  <thead>\n",
       "    <tr style=\"text-align: right;\">\n",
       "      <th></th>\n",
       "      <th>Variable_16_Y0</th>\n",
       "      <th>Variable_3_Y0</th>\n",
       "      <th>rr_9</th>\n",
       "    </tr>\n",
       "  </thead>\n",
       "  <tbody>\n",
       "    <tr>\n",
       "      <th>2679</th>\n",
       "      <td>969494815.8</td>\n",
       "      <td>624569.9086</td>\n",
       "      <td>0</td>\n",
       "    </tr>\n",
       "  </tbody>\n",
       "</table>\n",
       "</div>"
      ],
      "text/plain": [
       "      Variable_16_Y0  Variable_3_Y0  rr_9\n",
       "2679     969494815.8    624569.9086     0"
      ]
     },
     "execution_count": 20,
     "metadata": {},
     "output_type": "execute_result"
    }
   ],
   "source": [
    "df9.head()"
   ]
  },
  {
   "cell_type": "code",
   "execution_count": 21,
   "id": "central-house",
   "metadata": {},
   "outputs": [
    {
     "name": "stdout",
     "output_type": "stream",
     "text": [
      "(1, 2) (1,)\n"
     ]
    }
   ],
   "source": [
    "# split into inputs and outputs\n",
    "X8, y8 = df8.loc[:,cols8[:-1]], df8.loc[:,cols8[-1]]\n",
    "print(X8.shape, y8.shape)"
   ]
  },
  {
   "cell_type": "code",
   "execution_count": 22,
   "id": "conscious-designer",
   "metadata": {},
   "outputs": [
    {
     "name": "stdout",
     "output_type": "stream",
     "text": [
      "(1, 2) (1,)\n"
     ]
    }
   ],
   "source": [
    "X9, y9 = df9.loc[:,cols9[:-1]], df9.loc[:,cols9[-1]]\n",
    "print(X9.shape, y9.shape)"
   ]
  },
  {
   "cell_type": "code",
   "execution_count": 23,
   "id": "objective-armenia",
   "metadata": {},
   "outputs": [],
   "source": [
    "rr_8_model = pickle.load(open('rr_8_model.sav', 'rb'))\n",
    "rr_9_model = pickle.load(open('rr_9_model.sav', 'rb'))"
   ]
  },
  {
   "cell_type": "markdown",
   "id": "present-hometown",
   "metadata": {},
   "source": [
    "Previously created models will be loaded for predictions"
   ]
  },
  {
   "cell_type": "code",
   "execution_count": 24,
   "id": "needed-richardson",
   "metadata": {},
   "outputs": [],
   "source": [
    "# make predictions\n",
    "yhat8 = rr_8_model.predict(X8)\n",
    "yhat9 = rr_9_model.predict(X9)"
   ]
  },
  {
   "cell_type": "code",
   "execution_count": 28,
   "id": "scientific-trustee",
   "metadata": {},
   "outputs": [
    {
     "name": "stdout",
     "output_type": "stream",
     "text": [
      "Model 8 Prediction =  [1]\n",
      "Model 9 Prediction =  [0]\n"
     ]
    }
   ],
   "source": [
    "print('Model 8 Prediction = ', yhat8)\n",
    "print('Model 9 Prediction = ', yhat9)"
   ]
  },
  {
   "cell_type": "markdown",
   "id": "linear-restaurant",
   "metadata": {},
   "source": [
    "This model was able to predict that the sample test set was an 8 and not a 9\n",
    "\n",
    "We could create 16 models and each could provide a value of 0 or 1. \n",
    "\n",
    "We know that these models are better at predicting 0s than 1s. "
   ]
  },
  {
   "cell_type": "code",
   "execution_count": null,
   "id": "powerful-moscow",
   "metadata": {},
   "outputs": [],
   "source": []
  }
 ],
 "metadata": {
  "kernelspec": {
   "display_name": "Python 3",
   "language": "python",
   "name": "python3"
  },
  "language_info": {
   "codemirror_mode": {
    "name": "ipython",
    "version": 3
   },
   "file_extension": ".py",
   "mimetype": "text/x-python",
   "name": "python",
   "nbconvert_exporter": "python",
   "pygments_lexer": "ipython3",
   "version": "3.6.5"
  }
 },
 "nbformat": 4,
 "nbformat_minor": 5
}
