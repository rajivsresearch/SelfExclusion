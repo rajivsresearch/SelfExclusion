{
 "cells": [
  {
   "cell_type": "markdown",
   "id": "fiscal-order",
   "metadata": {},
   "source": [
    "Now that we have variables that show some promise in their predictability of Risk Rating, let us see if these Variable can indeed be used to predict the Risk Rating\n",
    "\n",
    "Unfortunately the version of Statsmodels does not support ordinal regression so we will need to change our approach to predict the Self Exclusion flag which is a bibary variable\n",
    "\n",
    "The purpose of this notebook is to use classifiers to classify the variables into risky and non risky"
   ]
  },
  {
   "cell_type": "code",
   "execution_count": 2,
   "id": "acoustic-reliance",
   "metadata": {},
   "outputs": [],
   "source": [
    "import pandas as pd\n",
    "import matplotlib.pyplot as plt\n",
    "import seaborn as sns\n",
    "import numpy as np"
   ]
  },
  {
   "cell_type": "code",
   "execution_count": 3,
   "id": "cellular-abuse",
   "metadata": {},
   "outputs": [],
   "source": [
    "import statsmodels.api as sm"
   ]
  },
  {
   "cell_type": "code",
   "execution_count": 45,
   "id": "becoming-chess",
   "metadata": {},
   "outputs": [],
   "source": [
    "from sklearn.model_selection import train_test_split\n",
    "from sklearn.ensemble import RandomForestClassifier\n",
    "from sklearn.metrics import accuracy_score, confusion_matrix"
   ]
  },
  {
   "cell_type": "code",
   "execution_count": 4,
   "id": "generous-layer",
   "metadata": {},
   "outputs": [],
   "source": [
    "df = pd.read_csv('df_client.csv')"
   ]
  },
  {
   "cell_type": "code",
   "execution_count": 5,
   "id": "mechanical-incident",
   "metadata": {},
   "outputs": [
    {
     "data": {
      "text/html": [
       "<div>\n",
       "<style scoped>\n",
       "    .dataframe tbody tr th:only-of-type {\n",
       "        vertical-align: middle;\n",
       "    }\n",
       "\n",
       "    .dataframe tbody tr th {\n",
       "        vertical-align: top;\n",
       "    }\n",
       "\n",
       "    .dataframe thead th {\n",
       "        text-align: right;\n",
       "    }\n",
       "</style>\n",
       "<table border=\"1\" class=\"dataframe\">\n",
       "  <thead>\n",
       "    <tr style=\"text-align: right;\">\n",
       "      <th></th>\n",
       "      <th>Country_Code</th>\n",
       "      <th>BR Code</th>\n",
       "      <th>Period</th>\n",
       "      <th>Client</th>\n",
       "      <th>risk_rating</th>\n",
       "      <th>Self_exclude_flag</th>\n",
       "      <th>Variable_1_Y0</th>\n",
       "      <th>Variable_1_Y1</th>\n",
       "      <th>Variable_1_Y2</th>\n",
       "      <th>Variable_1_Y3</th>\n",
       "      <th>...</th>\n",
       "      <th>Variable_28_Y1</th>\n",
       "      <th>Variable_28_Y2</th>\n",
       "      <th>Variable_28_Y3</th>\n",
       "      <th>Variable_29_Y0</th>\n",
       "      <th>Variable_29_Y1</th>\n",
       "      <th>Variable_29_Y2</th>\n",
       "      <th>Variable_30_Y0</th>\n",
       "      <th>Variable_30_Y1</th>\n",
       "      <th>Variable_30_Y2</th>\n",
       "      <th>Variable_30_Y3</th>\n",
       "    </tr>\n",
       "  </thead>\n",
       "  <tbody>\n",
       "    <tr>\n",
       "      <th>0</th>\n",
       "      <td>0</td>\n",
       "      <td>0</td>\n",
       "      <td>2017Q2</td>\n",
       "      <td>0</td>\n",
       "      <td>7</td>\n",
       "      <td>1</td>\n",
       "      <td>581103.4591</td>\n",
       "      <td>612122.5165</td>\n",
       "      <td>589483.6484</td>\n",
       "      <td>608043.5063</td>\n",
       "      <td>...</td>\n",
       "      <td>572312.4225</td>\n",
       "      <td>601762.9316</td>\n",
       "      <td>574251.4130</td>\n",
       "      <td>577170.3096</td>\n",
       "      <td>594024.8975</td>\n",
       "      <td>616177.8226</td>\n",
       "      <td>588163.8327</td>\n",
       "      <td>623659.1015</td>\n",
       "      <td>608794.9055</td>\n",
       "      <td>574860.551</td>\n",
       "    </tr>\n",
       "    <tr>\n",
       "      <th>1</th>\n",
       "      <td>0</td>\n",
       "      <td>0</td>\n",
       "      <td>2016Q1</td>\n",
       "      <td>0</td>\n",
       "      <td>7</td>\n",
       "      <td>1</td>\n",
       "      <td>608189.3682</td>\n",
       "      <td>581513.6158</td>\n",
       "      <td>609292.1500</td>\n",
       "      <td>NaN</td>\n",
       "      <td>...</td>\n",
       "      <td>608263.6088</td>\n",
       "      <td>605605.1646</td>\n",
       "      <td>NaN</td>\n",
       "      <td>581951.0166</td>\n",
       "      <td>608354.2362</td>\n",
       "      <td>623470.1198</td>\n",
       "      <td>591055.8212</td>\n",
       "      <td>592011.4052</td>\n",
       "      <td>572734.0028</td>\n",
       "      <td>NaN</td>\n",
       "    </tr>\n",
       "    <tr>\n",
       "      <th>2</th>\n",
       "      <td>0</td>\n",
       "      <td>0</td>\n",
       "      <td>2015Q4</td>\n",
       "      <td>0</td>\n",
       "      <td>7</td>\n",
       "      <td>1</td>\n",
       "      <td>626775.4450</td>\n",
       "      <td>620338.8464</td>\n",
       "      <td>NaN</td>\n",
       "      <td>NaN</td>\n",
       "      <td>...</td>\n",
       "      <td>621396.2940</td>\n",
       "      <td>NaN</td>\n",
       "      <td>NaN</td>\n",
       "      <td>590490.3620</td>\n",
       "      <td>620329.2616</td>\n",
       "      <td>NaN</td>\n",
       "      <td>626221.0887</td>\n",
       "      <td>572241.0321</td>\n",
       "      <td>NaN</td>\n",
       "      <td>NaN</td>\n",
       "    </tr>\n",
       "    <tr>\n",
       "      <th>3</th>\n",
       "      <td>0</td>\n",
       "      <td>0</td>\n",
       "      <td>2015Q2</td>\n",
       "      <td>0</td>\n",
       "      <td>7</td>\n",
       "      <td>1</td>\n",
       "      <td>613152.4469</td>\n",
       "      <td>595630.8819</td>\n",
       "      <td>NaN</td>\n",
       "      <td>NaN</td>\n",
       "      <td>...</td>\n",
       "      <td>589714.2432</td>\n",
       "      <td>NaN</td>\n",
       "      <td>NaN</td>\n",
       "      <td>580633.8747</td>\n",
       "      <td>576235.2813</td>\n",
       "      <td>NaN</td>\n",
       "      <td>619098.6619</td>\n",
       "      <td>578761.7137</td>\n",
       "      <td>NaN</td>\n",
       "      <td>NaN</td>\n",
       "    </tr>\n",
       "    <tr>\n",
       "      <th>4</th>\n",
       "      <td>0</td>\n",
       "      <td>1</td>\n",
       "      <td>2019Q1</td>\n",
       "      <td>1</td>\n",
       "      <td>9</td>\n",
       "      <td>0</td>\n",
       "      <td>615840.2415</td>\n",
       "      <td>603501.2067</td>\n",
       "      <td>587601.9393</td>\n",
       "      <td>610071.5454</td>\n",
       "      <td>...</td>\n",
       "      <td>607400.3547</td>\n",
       "      <td>570273.9177</td>\n",
       "      <td>573434.8221</td>\n",
       "      <td>572413.5987</td>\n",
       "      <td>618435.4264</td>\n",
       "      <td>587802.7283</td>\n",
       "      <td>NaN</td>\n",
       "      <td>NaN</td>\n",
       "      <td>NaN</td>\n",
       "      <td>NaN</td>\n",
       "    </tr>\n",
       "  </tbody>\n",
       "</table>\n",
       "<p>5 rows × 124 columns</p>\n",
       "</div>"
      ],
      "text/plain": [
       "   Country_Code  BR Code  Period  Client  risk_rating  Self_exclude_flag  \\\n",
       "0             0        0  2017Q2       0            7                  1   \n",
       "1             0        0  2016Q1       0            7                  1   \n",
       "2             0        0  2015Q4       0            7                  1   \n",
       "3             0        0  2015Q2       0            7                  1   \n",
       "4             0        1  2019Q1       1            9                  0   \n",
       "\n",
       "   Variable_1_Y0  Variable_1_Y1  Variable_1_Y2  Variable_1_Y3  ...  \\\n",
       "0    581103.4591    612122.5165    589483.6484    608043.5063  ...   \n",
       "1    608189.3682    581513.6158    609292.1500            NaN  ...   \n",
       "2    626775.4450    620338.8464            NaN            NaN  ...   \n",
       "3    613152.4469    595630.8819            NaN            NaN  ...   \n",
       "4    615840.2415    603501.2067    587601.9393    610071.5454  ...   \n",
       "\n",
       "   Variable_28_Y1  Variable_28_Y2  Variable_28_Y3  Variable_29_Y0  \\\n",
       "0     572312.4225     601762.9316     574251.4130     577170.3096   \n",
       "1     608263.6088     605605.1646             NaN     581951.0166   \n",
       "2     621396.2940             NaN             NaN     590490.3620   \n",
       "3     589714.2432             NaN             NaN     580633.8747   \n",
       "4     607400.3547     570273.9177     573434.8221     572413.5987   \n",
       "\n",
       "   Variable_29_Y1  Variable_29_Y2  Variable_30_Y0  Variable_30_Y1  \\\n",
       "0     594024.8975     616177.8226     588163.8327     623659.1015   \n",
       "1     608354.2362     623470.1198     591055.8212     592011.4052   \n",
       "2     620329.2616             NaN     626221.0887     572241.0321   \n",
       "3     576235.2813             NaN     619098.6619     578761.7137   \n",
       "4     618435.4264     587802.7283             NaN             NaN   \n",
       "\n",
       "   Variable_30_Y2  Variable_30_Y3  \n",
       "0     608794.9055      574860.551  \n",
       "1     572734.0028             NaN  \n",
       "2             NaN             NaN  \n",
       "3             NaN             NaN  \n",
       "4             NaN             NaN  \n",
       "\n",
       "[5 rows x 124 columns]"
      ]
     },
     "execution_count": 5,
     "metadata": {},
     "output_type": "execute_result"
    }
   ],
   "source": [
    "df.head()"
   ]
  },
  {
   "cell_type": "markdown",
   "id": "worthy-interface",
   "metadata": {},
   "source": [
    "We go back to the Correlation Matrix and take the absolute correlation of Risk Rating vs. all variables. \n",
    "\n",
    "We then select candidates for use in our classification exercise\n",
    "\n",
    "Preference was given to Y0 variables since they had less null values and correlation was comparable to variables from prior years"
   ]
  },
  {
   "cell_type": "code",
   "execution_count": 58,
   "id": "joint-burning",
   "metadata": {},
   "outputs": [],
   "source": [
    "#cols = ['Variable_16_Y0','Variable_17_Y0', 'Variable_22_Y0','Variable_3_Y0', \n",
    "cols = ['Variable_16_Y0','Variable_3_Y0', \n",
    "        'risk_rating', 'Self_exclude_flag']"
   ]
  },
  {
   "cell_type": "markdown",
   "id": "fuzzy-truth",
   "metadata": {},
   "source": [
    "16, 17, 22 and 3 were selected for the initial modeling\n",
    "\n",
    "Subsequently 17 and 22 were dropped"
   ]
  },
  {
   "cell_type": "code",
   "execution_count": 59,
   "id": "lesser-warehouse",
   "metadata": {},
   "outputs": [],
   "source": [
    "df1 = df.loc[:,cols].dropna()"
   ]
  },
  {
   "cell_type": "code",
   "execution_count": 60,
   "id": "monthly-setup",
   "metadata": {},
   "outputs": [
    {
     "name": "stdout",
     "output_type": "stream",
     "text": [
      "<class 'pandas.core.frame.DataFrame'>\n",
      "Int64Index: 23235 entries, 0 to 28223\n",
      "Data columns (total 4 columns):\n",
      " #   Column             Non-Null Count  Dtype  \n",
      "---  ------             --------------  -----  \n",
      " 0   Variable_16_Y0     23235 non-null  float64\n",
      " 1   Variable_3_Y0      23235 non-null  float64\n",
      " 2   risk_rating        23235 non-null  int64  \n",
      " 3   Self_exclude_flag  23235 non-null  int64  \n",
      "dtypes: float64(2), int64(2)\n",
      "memory usage: 907.6 KB\n"
     ]
    }
   ],
   "source": [
    "df1.info()"
   ]
  },
  {
   "cell_type": "code",
   "execution_count": 61,
   "id": "dependent-afternoon",
   "metadata": {},
   "outputs": [
    {
     "data": {
      "text/plain": [
       "1    19930\n",
       "0     3305\n",
       "Name: Self_exclude_flag, dtype: int64"
      ]
     },
     "execution_count": 61,
     "metadata": {},
     "output_type": "execute_result"
    }
   ],
   "source": [
    "pd.value_counts(df1['Self_exclude_flag'])"
   ]
  },
  {
   "cell_type": "markdown",
   "id": "consolidated-crime",
   "metadata": {},
   "source": [
    "Self Exclusion flag shows that 19K rows had value 1 and 3K rows had value 0"
   ]
  },
  {
   "cell_type": "code",
   "execution_count": 62,
   "id": "occupational-attachment",
   "metadata": {},
   "outputs": [
    {
     "data": {
      "text/plain": [
       "7     4816\n",
       "6     4604\n",
       "8     4216\n",
       "5     3312\n",
       "4     2143\n",
       "9     1660\n",
       "10     718\n",
       "3      652\n",
       "11     437\n",
       "12     199\n",
       "2      178\n",
       "13     139\n",
       "17     109\n",
       "14      27\n",
       "15      16\n",
       "1        9\n",
       "Name: risk_rating, dtype: int64"
      ]
     },
     "execution_count": 62,
     "metadata": {},
     "output_type": "execute_result"
    }
   ],
   "source": [
    "pd.value_counts(df1['risk_rating'])"
   ]
  },
  {
   "cell_type": "markdown",
   "id": "measured-optimum",
   "metadata": {},
   "source": [
    "Frequency of Risk Rating shows that some risk ratings like 1 had very few values\n",
    "\n",
    "For modeling, we will break the dataset into Train and Test datasets\n",
    "\n",
    "Train dataset will be used for training the model and Test dataset will be used for testing the model's accuracy"
   ]
  },
  {
   "cell_type": "code",
   "execution_count": 63,
   "id": "compound-illustration",
   "metadata": {},
   "outputs": [
    {
     "name": "stdout",
     "output_type": "stream",
     "text": [
      "(23235, 2) (23235,)\n"
     ]
    }
   ],
   "source": [
    "# split into inputs and outputs\n",
    "X, y = df1.loc[:,cols[:-2]], df1.loc[:,cols[-1]]\n",
    "print(X.shape, y.shape)"
   ]
  },
  {
   "cell_type": "code",
   "execution_count": 64,
   "id": "third-friendship",
   "metadata": {},
   "outputs": [
    {
     "name": "stdout",
     "output_type": "stream",
     "text": [
      "(15567, 2) (7668, 2) (15567,) (7668,)\n"
     ]
    }
   ],
   "source": [
    "# split into train test sets\n",
    "X_train, X_test, y_train, y_test = train_test_split(X, y, test_size=0.33, random_state=1)\n",
    "print(X_train.shape, X_test.shape, y_train.shape, y_test.shape)"
   ]
  },
  {
   "cell_type": "code",
   "execution_count": 65,
   "id": "automatic-yellow",
   "metadata": {},
   "outputs": [
    {
     "data": {
      "text/plain": [
       "RandomForestClassifier(random_state=1)"
      ]
     },
     "execution_count": 65,
     "metadata": {},
     "output_type": "execute_result"
    }
   ],
   "source": [
    "# fit the model\n",
    "model = RandomForestClassifier(random_state=1)\n",
    "model.fit(X_train, y_train)"
   ]
  },
  {
   "cell_type": "code",
   "execution_count": 66,
   "id": "needed-richardson",
   "metadata": {},
   "outputs": [],
   "source": [
    "# make predictions\n",
    "yhat = model.predict(X_test)"
   ]
  },
  {
   "cell_type": "code",
   "execution_count": 67,
   "id": "dynamic-outreach",
   "metadata": {},
   "outputs": [
    {
     "name": "stdout",
     "output_type": "stream",
     "text": [
      "Accuracy: 0.845\n"
     ]
    }
   ],
   "source": [
    "# evaluate predictions\n",
    "acc = accuracy_score(y_test, yhat)\n",
    "print('Accuracy: %.3f' % acc)"
   ]
  },
  {
   "cell_type": "markdown",
   "id": "present-polish",
   "metadata": {},
   "source": [
    "Model has high accuracy (0.85) with all 4 variables, however subsequently 2 variables were removed which reduced the accuracy somewhat"
   ]
  },
  {
   "cell_type": "code",
   "execution_count": 68,
   "id": "fossil-immunology",
   "metadata": {},
   "outputs": [
    {
     "name": "stdout",
     "output_type": "stream",
     "text": [
      "Confusion Matrix : \n",
      " [[  41 1031]\n",
      " [ 158 6438]]\n"
     ]
    }
   ],
   "source": [
    "cm = confusion_matrix(y_test, yhat) \n",
    "print (\"Confusion Matrix : \\n\", cm) "
   ]
  },
  {
   "cell_type": "markdown",
   "id": "molecular-insured",
   "metadata": {},
   "source": [
    "Confusion matrix shows the distribution of Actual vs. Predicted results. \n",
    "\n",
    "6438 / 6596 1s were correctly predicted\n",
    "\n",
    "Only 41 out of 1072 0s were correctly predicted\n",
    "\n",
    "So the model tends to have greater success in predicting the 1s (non-self excluded) than the 0s (self excluded)"
   ]
  },
  {
   "cell_type": "code",
   "execution_count": 70,
   "id": "rental-liver",
   "metadata": {},
   "outputs": [
    {
     "name": "stdout",
     "output_type": "stream",
     "text": [
      "y_test : \n",
      " [[   0 1072]\n",
      " [   1 6596]]\n"
     ]
    }
   ],
   "source": [
    "unique, counts = np.unique(y_test, return_counts=True)\n",
    "\n",
    "print(\"y_test : \\n\", np.asarray((unique, counts)).T)"
   ]
  },
  {
   "cell_type": "code",
   "execution_count": 69,
   "id": "stuffed-bearing",
   "metadata": {},
   "outputs": [
    {
     "name": "stdout",
     "output_type": "stream",
     "text": [
      "yhat : \n",
      " [[   0  199]\n",
      " [   1 7469]]\n"
     ]
    }
   ],
   "source": [
    "unique, counts = np.unique(yhat, return_counts=True)\n",
    "\n",
    "print(\"yhat : \\n\", np.asarray((unique, counts)).T)"
   ]
  },
  {
   "cell_type": "code",
   "execution_count": 27,
   "id": "canadian-organizer",
   "metadata": {},
   "outputs": [
    {
     "data": {
      "text/html": [
       "<div>\n",
       "<style scoped>\n",
       "    .dataframe tbody tr th:only-of-type {\n",
       "        vertical-align: middle;\n",
       "    }\n",
       "\n",
       "    .dataframe tbody tr th {\n",
       "        vertical-align: top;\n",
       "    }\n",
       "\n",
       "    .dataframe thead th {\n",
       "        text-align: right;\n",
       "    }\n",
       "</style>\n",
       "<table border=\"1\" class=\"dataframe\">\n",
       "  <thead>\n",
       "    <tr style=\"text-align: right;\">\n",
       "      <th></th>\n",
       "      <th>Variable_16_Y0</th>\n",
       "      <th>Variable_17_Y0</th>\n",
       "      <th>Variable_22_Y0</th>\n",
       "      <th>Variable_3_Y0</th>\n",
       "      <th>risk_rating</th>\n",
       "      <th>Self_exclude_flag</th>\n",
       "    </tr>\n",
       "  </thead>\n",
       "  <tbody>\n",
       "    <tr>\n",
       "      <th>Variable_16_Y0</th>\n",
       "      <td>1.000000</td>\n",
       "      <td>0.997606</td>\n",
       "      <td>0.001025</td>\n",
       "      <td>-0.006374</td>\n",
       "      <td>-0.068312</td>\n",
       "      <td>0.028444</td>\n",
       "    </tr>\n",
       "    <tr>\n",
       "      <th>Variable_17_Y0</th>\n",
       "      <td>0.997606</td>\n",
       "      <td>1.000000</td>\n",
       "      <td>0.001026</td>\n",
       "      <td>-0.006371</td>\n",
       "      <td>-0.068122</td>\n",
       "      <td>0.028178</td>\n",
       "    </tr>\n",
       "    <tr>\n",
       "      <th>Variable_22_Y0</th>\n",
       "      <td>0.001025</td>\n",
       "      <td>0.001026</td>\n",
       "      <td>1.000000</td>\n",
       "      <td>-0.398988</td>\n",
       "      <td>-0.009460</td>\n",
       "      <td>0.000914</td>\n",
       "    </tr>\n",
       "    <tr>\n",
       "      <th>Variable_3_Y0</th>\n",
       "      <td>-0.006374</td>\n",
       "      <td>-0.006371</td>\n",
       "      <td>-0.398988</td>\n",
       "      <td>1.000000</td>\n",
       "      <td>-0.006262</td>\n",
       "      <td>0.005107</td>\n",
       "    </tr>\n",
       "    <tr>\n",
       "      <th>risk_rating</th>\n",
       "      <td>-0.068312</td>\n",
       "      <td>-0.068122</td>\n",
       "      <td>-0.009460</td>\n",
       "      <td>-0.006262</td>\n",
       "      <td>1.000000</td>\n",
       "      <td>-0.685828</td>\n",
       "    </tr>\n",
       "    <tr>\n",
       "      <th>Self_exclude_flag</th>\n",
       "      <td>0.028444</td>\n",
       "      <td>0.028178</td>\n",
       "      <td>0.000914</td>\n",
       "      <td>0.005107</td>\n",
       "      <td>-0.685828</td>\n",
       "      <td>1.000000</td>\n",
       "    </tr>\n",
       "  </tbody>\n",
       "</table>\n",
       "</div>"
      ],
      "text/plain": [
       "                   Variable_16_Y0  Variable_17_Y0  Variable_22_Y0  \\\n",
       "Variable_16_Y0           1.000000        0.997606        0.001025   \n",
       "Variable_17_Y0           0.997606        1.000000        0.001026   \n",
       "Variable_22_Y0           0.001025        0.001026        1.000000   \n",
       "Variable_3_Y0           -0.006374       -0.006371       -0.398988   \n",
       "risk_rating             -0.068312       -0.068122       -0.009460   \n",
       "Self_exclude_flag        0.028444        0.028178        0.000914   \n",
       "\n",
       "                   Variable_3_Y0  risk_rating  Self_exclude_flag  \n",
       "Variable_16_Y0         -0.006374    -0.068312           0.028444  \n",
       "Variable_17_Y0         -0.006371    -0.068122           0.028178  \n",
       "Variable_22_Y0         -0.398988    -0.009460           0.000914  \n",
       "Variable_3_Y0           1.000000    -0.006262           0.005107  \n",
       "risk_rating            -0.006262     1.000000          -0.685828  \n",
       "Self_exclude_flag       0.005107    -0.685828           1.000000  "
      ]
     },
     "execution_count": 27,
     "metadata": {},
     "output_type": "execute_result"
    }
   ],
   "source": [
    "df1.corr()"
   ]
  },
  {
   "cell_type": "markdown",
   "id": "interesting-sarah",
   "metadata": {},
   "source": [
    "Correlation between the 4 variables shows that 16 and 17 are highly correlated and 22 and 3 have high correlation"
   ]
  },
  {
   "cell_type": "code",
   "execution_count": 53,
   "id": "treated-ghost",
   "metadata": {},
   "outputs": [],
   "source": [
    "def get_significance(cols):\n",
    "    logit_mod = sm.Logit(df1.loc[:,'Self_exclude_flag'], \n",
    "                         df1.loc[:,cols])\n",
    "\n",
    "    logit_res = logit_mod.fit()\n",
    "\n",
    "    print(logit_res.summary())"
   ]
  },
  {
   "cell_type": "markdown",
   "id": "governing-salem",
   "metadata": {},
   "source": [
    "The above code will take in a set of columns and use it to build a model and provide a summary of regression results which can then be used to select the variables that we will then se in our model"
   ]
  },
  {
   "cell_type": "code",
   "execution_count": 54,
   "id": "european-commander",
   "metadata": {},
   "outputs": [
    {
     "name": "stdout",
     "output_type": "stream",
     "text": [
      "Optimization terminated successfully.\n",
      "         Current function value: 0.449731\n",
      "         Iterations 5\n",
      "                           Logit Regression Results                           \n",
      "==============================================================================\n",
      "Dep. Variable:      Self_exclude_flag   No. Observations:                22620\n",
      "Model:                          Logit   Df Residuals:                    22618\n",
      "Method:                           MLE   Df Model:                            1\n",
      "Date:                Wed, 24 Aug 2022   Pseudo R-squ.:                -0.08976\n",
      "Time:                        09:41:07   Log-Likelihood:                -10173.\n",
      "converged:                       True   LL-Null:                       -9335.0\n",
      "Covariance Type:            nonrobust   LLR p-value:                     1.000\n",
      "==================================================================================\n",
      "                     coef    std err          z      P>|z|      [0.025      0.975]\n",
      "----------------------------------------------------------------------------------\n",
      "Variable_16_Y0  4.492e-10   5.87e-11      7.652      0.000    3.34e-10    5.64e-10\n",
      "Variable_22_Y0  2.589e-06   3.15e-08     82.284      0.000    2.53e-06    2.65e-06\n",
      "==================================================================================\n"
     ]
    }
   ],
   "source": [
    "get_significance(['Variable_16_Y0','Variable_22_Y0'])"
   ]
  },
  {
   "cell_type": "code",
   "execution_count": 55,
   "id": "ahead-header",
   "metadata": {},
   "outputs": [
    {
     "name": "stdout",
     "output_type": "stream",
     "text": [
      "Optimization terminated successfully.\n",
      "         Current function value: 0.420900\n",
      "         Iterations 6\n",
      "                           Logit Regression Results                           \n",
      "==============================================================================\n",
      "Dep. Variable:      Self_exclude_flag   No. Observations:                22620\n",
      "Model:                          Logit   Df Residuals:                    22618\n",
      "Method:                           MLE   Df Model:                            1\n",
      "Date:                Wed, 24 Aug 2022   Pseudo R-squ.:                -0.01990\n",
      "Time:                        09:41:36   Log-Likelihood:                -9520.8\n",
      "converged:                       True   LL-Null:                       -9335.0\n",
      "Covariance Type:            nonrobust   LLR p-value:                     1.000\n",
      "==================================================================================\n",
      "                     coef    std err          z      P>|z|      [0.025      0.975]\n",
      "----------------------------------------------------------------------------------\n",
      "Variable_16_Y0  3.018e-10    5.9e-11      5.114      0.000    1.86e-10    4.17e-10\n",
      "Variable_3_Y0   2.818e-06   3.29e-08     85.697      0.000    2.75e-06    2.88e-06\n",
      "==================================================================================\n"
     ]
    }
   ],
   "source": [
    "get_significance(['Variable_16_Y0','Variable_3_Y0'])"
   ]
  },
  {
   "cell_type": "code",
   "execution_count": 56,
   "id": "square-momentum",
   "metadata": {},
   "outputs": [
    {
     "name": "stdout",
     "output_type": "stream",
     "text": [
      "Optimization terminated successfully.\n",
      "         Current function value: 0.449746\n",
      "         Iterations 5\n",
      "                           Logit Regression Results                           \n",
      "==============================================================================\n",
      "Dep. Variable:      Self_exclude_flag   No. Observations:                22620\n",
      "Model:                          Logit   Df Residuals:                    22618\n",
      "Method:                           MLE   Df Model:                            1\n",
      "Date:                Wed, 24 Aug 2022   Pseudo R-squ.:                -0.08980\n",
      "Time:                        09:42:02   Log-Likelihood:                -10173.\n",
      "converged:                       True   LL-Null:                       -9335.0\n",
      "Covariance Type:            nonrobust   LLR p-value:                     1.000\n",
      "==================================================================================\n",
      "                     coef    std err          z      P>|z|      [0.025      0.975]\n",
      "----------------------------------------------------------------------------------\n",
      "Variable_17_Y0  4.465e-10   5.86e-11      7.615      0.000    3.32e-10    5.61e-10\n",
      "Variable_22_Y0  2.589e-06   3.15e-08     82.291      0.000    2.53e-06    2.65e-06\n",
      "==================================================================================\n"
     ]
    }
   ],
   "source": [
    "get_significance(['Variable_17_Y0','Variable_22_Y0'])"
   ]
  },
  {
   "cell_type": "code",
   "execution_count": 57,
   "id": "japanese-claim",
   "metadata": {},
   "outputs": [
    {
     "name": "stdout",
     "output_type": "stream",
     "text": [
      "Optimization terminated successfully.\n",
      "         Current function value: 0.420910\n",
      "         Iterations 6\n",
      "                           Logit Regression Results                           \n",
      "==============================================================================\n",
      "Dep. Variable:      Self_exclude_flag   No. Observations:                22620\n",
      "Model:                          Logit   Df Residuals:                    22618\n",
      "Method:                           MLE   Df Model:                            1\n",
      "Date:                Wed, 24 Aug 2022   Pseudo R-squ.:                -0.01992\n",
      "Time:                        09:42:16   Log-Likelihood:                -9521.0\n",
      "converged:                       True   LL-Null:                       -9335.0\n",
      "Covariance Type:            nonrobust   LLR p-value:                     1.000\n",
      "==================================================================================\n",
      "                     coef    std err          z      P>|z|      [0.025      0.975]\n",
      "----------------------------------------------------------------------------------\n",
      "Variable_17_Y0   2.99e-10   5.89e-11      5.073      0.000    1.84e-10    4.15e-10\n",
      "Variable_3_Y0   2.819e-06   3.29e-08     85.703      0.000    2.75e-06    2.88e-06\n",
      "==================================================================================\n"
     ]
    }
   ],
   "source": [
    "get_significance(['Variable_17_Y0','Variable_3_Y0'])"
   ]
  },
  {
   "cell_type": "markdown",
   "id": "complimentary-lawsuit",
   "metadata": {},
   "source": [
    "Log Likelihood value is a measure of goodness of fit for any model. Higher the value, better is the model. The highest value of Log Likelihood occurs when variable are 16 and 3 so henceforth these variables will be used for modeling"
   ]
  },
  {
   "cell_type": "code",
   "execution_count": null,
   "id": "applicable-framework",
   "metadata": {},
   "outputs": [],
   "source": []
  }
 ],
 "metadata": {
  "kernelspec": {
   "display_name": "Python 3",
   "language": "python",
   "name": "python3"
  },
  "language_info": {
   "codemirror_mode": {
    "name": "ipython",
    "version": 3
   },
   "file_extension": ".py",
   "mimetype": "text/x-python",
   "name": "python",
   "nbconvert_exporter": "python",
   "pygments_lexer": "ipython3",
   "version": "3.6.5"
  }
 },
 "nbformat": 4,
 "nbformat_minor": 5
}
