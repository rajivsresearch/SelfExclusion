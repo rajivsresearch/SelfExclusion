{
 "cells": [
  {
   "cell_type": "markdown",
   "id": "fiscal-order",
   "metadata": {},
   "source": [
    "In the previous notebook we tried to model using the Serf Exclusion variable. We also foud a subset of 4 variables that provided a high accuracy for predicting the Serf Exclusion Flag. Given the success of this approach, can we now model the Risk Rating?\n",
    "\n",
    "The purpose of this notebook is to use classifiers to classify the risk rating"
   ]
  },
  {
   "cell_type": "code",
   "execution_count": 1,
   "id": "acoustic-reliance",
   "metadata": {},
   "outputs": [],
   "source": [
    "import pandas as pd\n",
    "import matplotlib.pyplot as plt\n",
    "import seaborn as sns\n",
    "import numpy as np"
   ]
  },
  {
   "cell_type": "code",
   "execution_count": 19,
   "id": "becoming-chess",
   "metadata": {},
   "outputs": [],
   "source": [
    "from sklearn.model_selection import train_test_split, GroupShuffleSplit\n",
    "from sklearn.ensemble import RandomForestClassifier\n",
    "from sklearn.metrics import accuracy_score, confusion_matrix"
   ]
  },
  {
   "cell_type": "code",
   "execution_count": 3,
   "id": "generous-layer",
   "metadata": {},
   "outputs": [],
   "source": [
    "df = pd.read_csv('df_client.csv')"
   ]
  },
  {
   "cell_type": "code",
   "execution_count": 4,
   "id": "mechanical-incident",
   "metadata": {},
   "outputs": [
    {
     "data": {
      "text/html": [
       "<div>\n",
       "<style scoped>\n",
       "    .dataframe tbody tr th:only-of-type {\n",
       "        vertical-align: middle;\n",
       "    }\n",
       "\n",
       "    .dataframe tbody tr th {\n",
       "        vertical-align: top;\n",
       "    }\n",
       "\n",
       "    .dataframe thead th {\n",
       "        text-align: right;\n",
       "    }\n",
       "</style>\n",
       "<table border=\"1\" class=\"dataframe\">\n",
       "  <thead>\n",
       "    <tr style=\"text-align: right;\">\n",
       "      <th></th>\n",
       "      <th>Country_Code</th>\n",
       "      <th>BR Code</th>\n",
       "      <th>Period</th>\n",
       "      <th>Client</th>\n",
       "      <th>risk_rating</th>\n",
       "      <th>Self_exclude_flag</th>\n",
       "      <th>Variable_1_Y0</th>\n",
       "      <th>Variable_1_Y1</th>\n",
       "      <th>Variable_1_Y2</th>\n",
       "      <th>Variable_1_Y3</th>\n",
       "      <th>...</th>\n",
       "      <th>Variable_28_Y1</th>\n",
       "      <th>Variable_28_Y2</th>\n",
       "      <th>Variable_28_Y3</th>\n",
       "      <th>Variable_29_Y0</th>\n",
       "      <th>Variable_29_Y1</th>\n",
       "      <th>Variable_29_Y2</th>\n",
       "      <th>Variable_30_Y0</th>\n",
       "      <th>Variable_30_Y1</th>\n",
       "      <th>Variable_30_Y2</th>\n",
       "      <th>Variable_30_Y3</th>\n",
       "    </tr>\n",
       "  </thead>\n",
       "  <tbody>\n",
       "    <tr>\n",
       "      <th>0</th>\n",
       "      <td>0</td>\n",
       "      <td>0</td>\n",
       "      <td>2017Q2</td>\n",
       "      <td>0</td>\n",
       "      <td>7</td>\n",
       "      <td>1</td>\n",
       "      <td>581103.4591</td>\n",
       "      <td>612122.5165</td>\n",
       "      <td>589483.6484</td>\n",
       "      <td>608043.5063</td>\n",
       "      <td>...</td>\n",
       "      <td>572312.4225</td>\n",
       "      <td>601762.9316</td>\n",
       "      <td>574251.4130</td>\n",
       "      <td>577170.3096</td>\n",
       "      <td>594024.8975</td>\n",
       "      <td>616177.8226</td>\n",
       "      <td>588163.8327</td>\n",
       "      <td>623659.1015</td>\n",
       "      <td>608794.9055</td>\n",
       "      <td>574860.551</td>\n",
       "    </tr>\n",
       "    <tr>\n",
       "      <th>1</th>\n",
       "      <td>0</td>\n",
       "      <td>0</td>\n",
       "      <td>2016Q1</td>\n",
       "      <td>0</td>\n",
       "      <td>7</td>\n",
       "      <td>1</td>\n",
       "      <td>608189.3682</td>\n",
       "      <td>581513.6158</td>\n",
       "      <td>609292.1500</td>\n",
       "      <td>NaN</td>\n",
       "      <td>...</td>\n",
       "      <td>608263.6088</td>\n",
       "      <td>605605.1646</td>\n",
       "      <td>NaN</td>\n",
       "      <td>581951.0166</td>\n",
       "      <td>608354.2362</td>\n",
       "      <td>623470.1198</td>\n",
       "      <td>591055.8212</td>\n",
       "      <td>592011.4052</td>\n",
       "      <td>572734.0028</td>\n",
       "      <td>NaN</td>\n",
       "    </tr>\n",
       "    <tr>\n",
       "      <th>2</th>\n",
       "      <td>0</td>\n",
       "      <td>0</td>\n",
       "      <td>2015Q4</td>\n",
       "      <td>0</td>\n",
       "      <td>7</td>\n",
       "      <td>1</td>\n",
       "      <td>626775.4450</td>\n",
       "      <td>620338.8464</td>\n",
       "      <td>NaN</td>\n",
       "      <td>NaN</td>\n",
       "      <td>...</td>\n",
       "      <td>621396.2940</td>\n",
       "      <td>NaN</td>\n",
       "      <td>NaN</td>\n",
       "      <td>590490.3620</td>\n",
       "      <td>620329.2616</td>\n",
       "      <td>NaN</td>\n",
       "      <td>626221.0887</td>\n",
       "      <td>572241.0321</td>\n",
       "      <td>NaN</td>\n",
       "      <td>NaN</td>\n",
       "    </tr>\n",
       "    <tr>\n",
       "      <th>3</th>\n",
       "      <td>0</td>\n",
       "      <td>0</td>\n",
       "      <td>2015Q2</td>\n",
       "      <td>0</td>\n",
       "      <td>7</td>\n",
       "      <td>1</td>\n",
       "      <td>613152.4469</td>\n",
       "      <td>595630.8819</td>\n",
       "      <td>NaN</td>\n",
       "      <td>NaN</td>\n",
       "      <td>...</td>\n",
       "      <td>589714.2432</td>\n",
       "      <td>NaN</td>\n",
       "      <td>NaN</td>\n",
       "      <td>580633.8747</td>\n",
       "      <td>576235.2813</td>\n",
       "      <td>NaN</td>\n",
       "      <td>619098.6619</td>\n",
       "      <td>578761.7137</td>\n",
       "      <td>NaN</td>\n",
       "      <td>NaN</td>\n",
       "    </tr>\n",
       "    <tr>\n",
       "      <th>4</th>\n",
       "      <td>0</td>\n",
       "      <td>1</td>\n",
       "      <td>2019Q1</td>\n",
       "      <td>1</td>\n",
       "      <td>9</td>\n",
       "      <td>0</td>\n",
       "      <td>615840.2415</td>\n",
       "      <td>603501.2067</td>\n",
       "      <td>587601.9393</td>\n",
       "      <td>610071.5454</td>\n",
       "      <td>...</td>\n",
       "      <td>607400.3547</td>\n",
       "      <td>570273.9177</td>\n",
       "      <td>573434.8221</td>\n",
       "      <td>572413.5987</td>\n",
       "      <td>618435.4264</td>\n",
       "      <td>587802.7283</td>\n",
       "      <td>NaN</td>\n",
       "      <td>NaN</td>\n",
       "      <td>NaN</td>\n",
       "      <td>NaN</td>\n",
       "    </tr>\n",
       "  </tbody>\n",
       "</table>\n",
       "<p>5 rows × 124 columns</p>\n",
       "</div>"
      ],
      "text/plain": [
       "   Country_Code  BR Code  Period  Client  risk_rating  Self_exclude_flag  \\\n",
       "0             0        0  2017Q2       0            7                  1   \n",
       "1             0        0  2016Q1       0            7                  1   \n",
       "2             0        0  2015Q4       0            7                  1   \n",
       "3             0        0  2015Q2       0            7                  1   \n",
       "4             0        1  2019Q1       1            9                  0   \n",
       "\n",
       "   Variable_1_Y0  Variable_1_Y1  Variable_1_Y2  Variable_1_Y3  ...  \\\n",
       "0    581103.4591    612122.5165    589483.6484    608043.5063  ...   \n",
       "1    608189.3682    581513.6158    609292.1500            NaN  ...   \n",
       "2    626775.4450    620338.8464            NaN            NaN  ...   \n",
       "3    613152.4469    595630.8819            NaN            NaN  ...   \n",
       "4    615840.2415    603501.2067    587601.9393    610071.5454  ...   \n",
       "\n",
       "   Variable_28_Y1  Variable_28_Y2  Variable_28_Y3  Variable_29_Y0  \\\n",
       "0     572312.4225     601762.9316     574251.4130     577170.3096   \n",
       "1     608263.6088     605605.1646             NaN     581951.0166   \n",
       "2     621396.2940             NaN             NaN     590490.3620   \n",
       "3     589714.2432             NaN             NaN     580633.8747   \n",
       "4     607400.3547     570273.9177     573434.8221     572413.5987   \n",
       "\n",
       "   Variable_29_Y1  Variable_29_Y2  Variable_30_Y0  Variable_30_Y1  \\\n",
       "0     594024.8975     616177.8226     588163.8327     623659.1015   \n",
       "1     608354.2362     623470.1198     591055.8212     592011.4052   \n",
       "2     620329.2616             NaN     626221.0887     572241.0321   \n",
       "3     576235.2813             NaN     619098.6619     578761.7137   \n",
       "4     618435.4264     587802.7283             NaN             NaN   \n",
       "\n",
       "   Variable_30_Y2  Variable_30_Y3  \n",
       "0     608794.9055      574860.551  \n",
       "1     572734.0028             NaN  \n",
       "2             NaN             NaN  \n",
       "3             NaN             NaN  \n",
       "4             NaN             NaN  \n",
       "\n",
       "[5 rows x 124 columns]"
      ]
     },
     "execution_count": 4,
     "metadata": {},
     "output_type": "execute_result"
    }
   ],
   "source": [
    "df.head()"
   ]
  },
  {
   "cell_type": "code",
   "execution_count": 22,
   "id": "joint-burning",
   "metadata": {},
   "outputs": [],
   "source": [
    "#cols = ['Variable_16_Y0','Variable_17_Y0', 'Variable_22_Y0','Variable_3_Y0', \n",
    "cols = ['Variable_16_Y0','Variable_3_Y0', \n",
    "        'risk_rating']"
   ]
  },
  {
   "cell_type": "code",
   "execution_count": 79,
   "id": "lesser-warehouse",
   "metadata": {},
   "outputs": [],
   "source": [
    "df1 = df.loc[:,cols].dropna().sort_values(by='risk_rating').reset_index(drop=True)"
   ]
  },
  {
   "cell_type": "code",
   "execution_count": 81,
   "id": "monthly-setup",
   "metadata": {},
   "outputs": [
    {
     "data": {
      "text/html": [
       "<div>\n",
       "<style scoped>\n",
       "    .dataframe tbody tr th:only-of-type {\n",
       "        vertical-align: middle;\n",
       "    }\n",
       "\n",
       "    .dataframe tbody tr th {\n",
       "        vertical-align: top;\n",
       "    }\n",
       "\n",
       "    .dataframe thead th {\n",
       "        text-align: right;\n",
       "    }\n",
       "</style>\n",
       "<table border=\"1\" class=\"dataframe\">\n",
       "  <thead>\n",
       "    <tr style=\"text-align: right;\">\n",
       "      <th></th>\n",
       "      <th>Variable_16_Y0</th>\n",
       "      <th>Variable_3_Y0</th>\n",
       "      <th>risk_rating</th>\n",
       "    </tr>\n",
       "  </thead>\n",
       "  <tbody>\n",
       "    <tr>\n",
       "      <th>0</th>\n",
       "      <td>9.659202e+08</td>\n",
       "      <td>597439.6848</td>\n",
       "      <td>1</td>\n",
       "    </tr>\n",
       "    <tr>\n",
       "      <th>1</th>\n",
       "      <td>6.167195e+05</td>\n",
       "      <td>626093.3911</td>\n",
       "      <td>1</td>\n",
       "    </tr>\n",
       "    <tr>\n",
       "      <th>2</th>\n",
       "      <td>5.983304e+05</td>\n",
       "      <td>592918.6650</td>\n",
       "      <td>1</td>\n",
       "    </tr>\n",
       "    <tr>\n",
       "      <th>3</th>\n",
       "      <td>9.681877e+08</td>\n",
       "      <td>626715.8246</td>\n",
       "      <td>1</td>\n",
       "    </tr>\n",
       "    <tr>\n",
       "      <th>4</th>\n",
       "      <td>1.043984e+09</td>\n",
       "      <td>613926.4115</td>\n",
       "      <td>1</td>\n",
       "    </tr>\n",
       "  </tbody>\n",
       "</table>\n",
       "</div>"
      ],
      "text/plain": [
       "   Variable_16_Y0  Variable_3_Y0  risk_rating\n",
       "0    9.659202e+08    597439.6848            1\n",
       "1    6.167195e+05    626093.3911            1\n",
       "2    5.983304e+05    592918.6650            1\n",
       "3    9.681877e+08    626715.8246            1\n",
       "4    1.043984e+09    613926.4115            1"
      ]
     },
     "execution_count": 81,
     "metadata": {},
     "output_type": "execute_result"
    }
   ],
   "source": [
    "df1.head()"
   ]
  },
  {
   "cell_type": "code",
   "execution_count": 83,
   "id": "occupational-attachment",
   "metadata": {},
   "outputs": [
    {
     "data": {
      "text/plain": [
       "7     4816\n",
       "6     4604\n",
       "8     4216\n",
       "5     3312\n",
       "4     2143\n",
       "9     1660\n",
       "10     718\n",
       "3      652\n",
       "11     437\n",
       "12     199\n",
       "2      178\n",
       "13     139\n",
       "17     109\n",
       "14      27\n",
       "15      16\n",
       "1        9\n",
       "Name: risk_rating, dtype: int64"
      ]
     },
     "execution_count": 83,
     "metadata": {},
     "output_type": "execute_result"
    }
   ],
   "source": [
    "pd.value_counts(df1['risk_rating'])"
   ]
  },
  {
   "cell_type": "code",
   "execution_count": 84,
   "id": "valued-infrastructure",
   "metadata": {},
   "outputs": [],
   "source": [
    "remove_rating = [1,14,15,17]"
   ]
  },
  {
   "cell_type": "code",
   "execution_count": 85,
   "id": "compound-illustration",
   "metadata": {},
   "outputs": [
    {
     "name": "stdout",
     "output_type": "stream",
     "text": [
      "(23074, 2) (23074,)\n"
     ]
    }
   ],
   "source": [
    "# split into inputs and outputs\n",
    "f1 = ~df1['risk_rating'].isin(remove_rating)\n",
    "\n",
    "X, y = df1.loc[f1,cols[:-1]], df1.loc[f1,cols[-1]]\n",
    "print(X.shape, y.shape)"
   ]
  },
  {
   "cell_type": "code",
   "execution_count": 91,
   "id": "peaceful-hudson",
   "metadata": {},
   "outputs": [
    {
     "data": {
      "text/plain": [
       "7     4816\n",
       "6     4604\n",
       "8     4216\n",
       "5     3312\n",
       "4     2143\n",
       "9     1660\n",
       "10     718\n",
       "3      652\n",
       "11     437\n",
       "12     199\n",
       "2      178\n",
       "13     139\n",
       "Name: risk_rating, dtype: int64"
      ]
     },
     "execution_count": 91,
     "metadata": {},
     "output_type": "execute_result"
    }
   ],
   "source": [
    "pd.value_counts(y)"
   ]
  },
  {
   "cell_type": "code",
   "execution_count": 103,
   "id": "adjusted-kingston",
   "metadata": {},
   "outputs": [
    {
     "data": {
      "text/plain": [
       "array([133,  23,  82,  49, 130,  72,  98,  71, 128,  12], dtype=int64)"
      ]
     },
     "execution_count": 103,
     "metadata": {},
     "output_type": "execute_result"
    }
   ],
   "source": [
    "np.random.choice(y[y==2].index.values,10,replace=False)"
   ]
  },
  {
   "cell_type": "code",
   "execution_count": 114,
   "id": "mighty-trust",
   "metadata": {},
   "outputs": [],
   "source": [
    "def test_train_split(y):\n",
    "    vc = pd.value_counts(y)\n",
    "    ind = vc.index.values\n",
    "\n",
    "    l = 0\n",
    "    cnt = 0\n",
    "    \n",
    "    for item in ind:\n",
    "        \n",
    "        ser = y[y==item]\n",
    "        l = len(ser)\n",
    "        \n",
    "        if cnt == 0:\n",
    "            train_ix = np.random.choice(ser.index.values,round(0.8*l),replace=False)\n",
    "            cnt = cnt+1\n",
    "        else:\n",
    "            train_ix = np.append(train_ix,\n",
    "                                 np.random.choice(ser.index.values,round(0.8*l),replace=False))\n",
    "        \n",
    "    return train_ix"
   ]
  },
  {
   "cell_type": "markdown",
   "id": "roman-qualification",
   "metadata": {},
   "source": [
    "We cannot use the standard Scikit Learn module to split the dataset into Test and Train datasets. This is because we want to ensure that all the classes are represented in the Test and Train datasets. The code above was written to accomplish this."
   ]
  },
  {
   "cell_type": "code",
   "execution_count": 115,
   "id": "spiritual-husband",
   "metadata": {},
   "outputs": [],
   "source": [
    "train_ix = test_train_split(y)"
   ]
  },
  {
   "cell_type": "code",
   "execution_count": 117,
   "id": "exempt-broad",
   "metadata": {},
   "outputs": [
    {
     "data": {
      "text/plain": [
       "(18459,)"
      ]
     },
     "execution_count": 117,
     "metadata": {},
     "output_type": "execute_result"
    }
   ],
   "source": [
    "train_ix.shape"
   ]
  },
  {
   "cell_type": "code",
   "execution_count": 118,
   "id": "assumed-detector",
   "metadata": {},
   "outputs": [],
   "source": [
    "X_train = X.loc[X.index.isin(train_ix),:]\n",
    "y_train = y.loc[y.index.isin(train_ix)]\n",
    "\n",
    "X_test = X.loc[~X.index.isin(train_ix),:]\n",
    "y_test = y.loc[~y.index.isin(train_ix)]"
   ]
  },
  {
   "cell_type": "code",
   "execution_count": 119,
   "id": "duplicate-payroll",
   "metadata": {},
   "outputs": [
    {
     "data": {
      "text/plain": [
       "7     3853\n",
       "6     3683\n",
       "8     3373\n",
       "5     2650\n",
       "4     1714\n",
       "9     1328\n",
       "10     574\n",
       "3      522\n",
       "11     350\n",
       "12     159\n",
       "2      142\n",
       "13     111\n",
       "Name: risk_rating, dtype: int64"
      ]
     },
     "execution_count": 119,
     "metadata": {},
     "output_type": "execute_result"
    }
   ],
   "source": [
    "pd.value_counts(y_train)"
   ]
  },
  {
   "cell_type": "code",
   "execution_count": 120,
   "id": "noted-concert",
   "metadata": {},
   "outputs": [
    {
     "data": {
      "text/plain": [
       "7     963\n",
       "6     921\n",
       "8     843\n",
       "5     662\n",
       "4     429\n",
       "9     332\n",
       "10    144\n",
       "3     130\n",
       "11     87\n",
       "12     40\n",
       "2      36\n",
       "13     28\n",
       "Name: risk_rating, dtype: int64"
      ]
     },
     "execution_count": 120,
     "metadata": {},
     "output_type": "execute_result"
    }
   ],
   "source": [
    "pd.value_counts(y_test)"
   ]
  },
  {
   "cell_type": "code",
   "execution_count": 121,
   "id": "automatic-yellow",
   "metadata": {},
   "outputs": [
    {
     "data": {
      "text/plain": [
       "RandomForestClassifier(random_state=1)"
      ]
     },
     "execution_count": 121,
     "metadata": {},
     "output_type": "execute_result"
    }
   ],
   "source": [
    "# fit the model\n",
    "model = RandomForestClassifier(random_state=1)\n",
    "model.fit(X_train, y_train.values)"
   ]
  },
  {
   "cell_type": "code",
   "execution_count": 122,
   "id": "needed-richardson",
   "metadata": {},
   "outputs": [],
   "source": [
    "# make predictions\n",
    "yhat = model.predict(X_test)"
   ]
  },
  {
   "cell_type": "code",
   "execution_count": 123,
   "id": "dynamic-outreach",
   "metadata": {},
   "outputs": [
    {
     "name": "stdout",
     "output_type": "stream",
     "text": [
      "Accuracy: 0.168\n"
     ]
    }
   ],
   "source": [
    "# evaluate predictions\n",
    "acc = accuracy_score(y_test, yhat)\n",
    "print('Accuracy: %.3f' % acc)"
   ]
  },
  {
   "cell_type": "markdown",
   "id": "intelligent-diesel",
   "metadata": {},
   "source": [
    "The accuracy of the model is very low"
   ]
  },
  {
   "cell_type": "code",
   "execution_count": 124,
   "id": "fossil-immunology",
   "metadata": {},
   "outputs": [
    {
     "name": "stdout",
     "output_type": "stream",
     "text": [
      "Confusion Matrix : \n",
      " [[  1   1   2   6   7  11   5   1   2   0   0   0]\n",
      " [  1   1   6  21  29  31  33   6   2   0   0   0]\n",
      " [  1  10  25  82 106  90  80  23   6   5   1   0]\n",
      " [  4   8  47 120 143 159 134  32   8   3   4   0]\n",
      " [  6   9  62 126 205 263 187  35  10  13   3   2]\n",
      " [  4  15  74 138 211 238 190  58  18  13   2   2]\n",
      " [  5  12  61 121 212 212 155  43  13   6   2   1]\n",
      " [  1   2  28  34  72  98  61  22   4   6   2   2]\n",
      " [  1   3   3  25  40  32  23   7   7   2   1   0]\n",
      " [  0   1   5   8  24  24  17   5   2   0   0   1]\n",
      " [  0   0   1   7  12   9   8   3   0   0   0   0]\n",
      " [  0   0   1   3   8  13   2   1   0   0   0   0]]\n"
     ]
    }
   ],
   "source": [
    "cm = confusion_matrix(y_test, yhat) \n",
    "print (\"Confusion Matrix : \\n\", cm) "
   ]
  },
  {
   "cell_type": "code",
   "execution_count": 125,
   "id": "stuffed-bearing",
   "metadata": {},
   "outputs": [
    {
     "name": "stdout",
     "output_type": "stream",
     "text": [
      "yhat : \n",
      " [[   2   24]\n",
      " [   3   62]\n",
      " [   4  315]\n",
      " [   5  691]\n",
      " [   6 1069]\n",
      " [   7 1180]\n",
      " [   8  895]\n",
      " [   9  236]\n",
      " [  10   72]\n",
      " [  11   48]\n",
      " [  12   15]\n",
      " [  13    8]]\n"
     ]
    }
   ],
   "source": [
    "unique, counts = np.unique(yhat, return_counts=True)\n",
    "\n",
    "print(\"yhat : \\n\", np.asarray((unique, counts)).T)"
   ]
  },
  {
   "cell_type": "code",
   "execution_count": 126,
   "id": "rental-liver",
   "metadata": {},
   "outputs": [
    {
     "name": "stdout",
     "output_type": "stream",
     "text": [
      "y_test : \n",
      " [[  2  36]\n",
      " [  3 130]\n",
      " [  4 429]\n",
      " [  5 662]\n",
      " [  6 921]\n",
      " [  7 963]\n",
      " [  8 843]\n",
      " [  9 332]\n",
      " [ 10 144]\n",
      " [ 11  87]\n",
      " [ 12  40]\n",
      " [ 13  28]]\n"
     ]
    }
   ],
   "source": [
    "unique, counts = np.unique(y_test, return_counts=True)\n",
    "\n",
    "print(\"y_test : \\n\", np.asarray((unique, counts)).T)"
   ]
  },
  {
   "cell_type": "code",
   "execution_count": null,
   "id": "cardiac-saturn",
   "metadata": {},
   "outputs": [],
   "source": []
  }
 ],
 "metadata": {
  "kernelspec": {
   "display_name": "Python 3",
   "language": "python",
   "name": "python3"
  },
  "language_info": {
   "codemirror_mode": {
    "name": "ipython",
    "version": 3
   },
   "file_extension": ".py",
   "mimetype": "text/x-python",
   "name": "python",
   "nbconvert_exporter": "python",
   "pygments_lexer": "ipython3",
   "version": "3.6.5"
  }
 },
 "nbformat": 4,
 "nbformat_minor": 5
}
